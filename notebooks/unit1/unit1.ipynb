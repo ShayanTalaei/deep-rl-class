{
  "cells": [
    {
      "cell_type": "markdown",
      "metadata": {
        "id": "njb_ProuHiOe"
      },
      "source": [
        "# Unit 1: Train your first Deep Reinforcement Learning Agent 🤖\n",
        "\n",
        "![Cover](https://huggingface.co/datasets/huggingface-deep-rl-course/course-images/resolve/main/en/unit1/thumbnail.jpg)\n",
        "\n",
        "In this notebook, you'll train your **first Deep Reinforcement Learning agent** a Lunar Lander agent that will learn to **land correctly on the Moon 🌕**. Using [Stable-Baselines3](https://stable-baselines3.readthedocs.io/en/master/) a Deep Reinforcement Learning library, share them with the community, and experiment with different configurations\n",
        "\n",
        "⬇️ Here is an example of what **you will achieve in just a couple of minutes.** ⬇️\n",
        "\n",
        "\n"
      ]
    },
    {
      "cell_type": "code",
      "execution_count": null,
      "metadata": {
        "id": "PF46MwbZD00b"
      },
      "outputs": [],
      "source": [
        "%%html\n",
        "<video controls autoplay><source src=\"https://huggingface.co/sb3/ppo-LunarLander-v2/resolve/main/replay.mp4\" type=\"video/mp4\"></video>"
      ]
    },
    {
      "cell_type": "markdown",
      "metadata": {
        "id": "x7oR6R-ZIbeS"
      },
      "source": [
        "### The environment 🎮\n",
        "\n",
        "- [LunarLander-v2](https://gymnasium.farama.org/environments/box2d/lunar_lander/)\n",
        "\n",
        "### The library used 📚\n",
        "\n",
        "- [Stable-Baselines3](https://stable-baselines3.readthedocs.io/en/master/)"
      ]
    },
    {
      "cell_type": "markdown",
      "metadata": {
        "id": "OwEcFHe9RRZW"
      },
      "source": [
        "We're constantly trying to improve our tutorials, so **if you find some issues in this notebook**, please [open an issue on the Github Repo](https://github.com/huggingface/deep-rl-class/issues)."
      ]
    },
    {
      "cell_type": "markdown",
      "metadata": {
        "id": "4i6tjI2tHQ8j"
      },
      "source": [
        "## Objectives of this notebook 🏆\n",
        "\n",
        "At the end of the notebook, you will:\n",
        "\n",
        "- Be able to use **Gymnasium**, the environment library.\n",
        "- Be able to use **Stable-Baselines3**, the deep reinforcement learning library.\n",
        "- Be able to **push your trained agent to the Hub** with a nice video replay and an evaluation score 🔥.\n",
        "\n",
        "\n"
      ]
    },
    {
      "cell_type": "markdown",
      "metadata": {
        "id": "Ff-nyJdzJPND"
      },
      "source": [
        "## This notebook is from Deep Reinforcement Learning Course\n",
        "\n",
        "<img src=\"https://huggingface.co/datasets/huggingface-deep-rl-course/course-images/resolve/main/en/notebooks/deep-rl-course-illustration.jpg\" alt=\"Deep RL Course illustration\"/>"
      ]
    },
    {
      "cell_type": "markdown",
      "metadata": {
        "id": "6p5HnEefISCB"
      },
      "source": [
        "In this free course, you will:\n",
        "\n",
        "- 📖 Study Deep Reinforcement Learning in **theory and practice**.\n",
        "- 🧑‍💻 Learn to **use famous Deep RL libraries** such as Stable Baselines3, RL Baselines3 Zoo, CleanRL and Sample Factory 2.0.\n",
        "- 🤖 Train **agents in unique environments**\n",
        "- 🎓 **Earn a certificate of completion** by completing 80% of the assignments.\n",
        "\n",
        "And more!\n",
        "\n",
        "Check 📚 the syllabus 👉 https://simoninithomas.github.io/deep-rl-course\n",
        "\n",
        "Don’t forget to **<a href=\"http://eepurl.com/ic5ZUD\">sign up to the course</a>** (we are collecting your email to be able to **send you the links when each Unit is published and give you information about the challenges and updates).**\n",
        "\n",
        "The best way to keep in touch and ask questions is **to join our discord server** to exchange with the community and with us 👉🏻 https://discord.gg/ydHrjt3WP5"
      ]
    },
    {
      "cell_type": "markdown",
      "metadata": {
        "id": "Y-mo_6rXIjRi"
      },
      "source": [
        "## Prerequisites 🏗️\n",
        "\n",
        "Before diving into the notebook, you need to:\n",
        "\n",
        "🔲 📝 **[Read Unit 0](https://huggingface.co/deep-rl-course/unit0/introduction)** that gives you all the **information about the course and helps you to onboard** 🤗\n",
        "\n",
        "🔲 📚 **Develop an understanding of the foundations of Reinforcement learning** (RL process, Rewards hypothesis...) by [reading Unit 1](https://huggingface.co/deep-rl-course/unit1/introduction)."
      ]
    },
    {
      "cell_type": "markdown",
      "metadata": {
        "id": "HoeqMnr5LuYE"
      },
      "source": [
        "## A small recap of Deep Reinforcement Learning 📚\n",
        "\n",
        "<img src=\"https://huggingface.co/datasets/huggingface-deep-rl-course/course-images/resolve/main/en/unit1/RL_process_game.jpg\" alt=\"The RL process\" width=\"100%\">"
      ]
    },
    {
      "cell_type": "markdown",
      "metadata": {
        "id": "xcQYx9ynaFMD"
      },
      "source": [
        "Let's do a small recap on what we learned in the first Unit:\n",
        "\n",
        "- Reinforcement Learning is a **computational approach to learning from actions**. We build an agent that learns from the environment by **interacting with it through trial and error** and receiving rewards (negative or positive) as feedback.\n",
        "\n",
        "- The goal of any RL agent is to **maximize its expected cumulative reward** (also called expected return) because RL is based on the _reward hypothesis_, which is that all goals can be described as the maximization of an expected cumulative reward.\n",
        "\n",
        "- The RL process is a **loop that outputs a sequence of state, action, reward, and next state**.\n",
        "\n",
        "- To calculate the expected cumulative reward (expected return), **we discount the rewards**: the rewards that come sooner (at the beginning of the game) are more probable to happen since they are more predictable than the long-term future reward.\n",
        "\n",
        "- To solve an RL problem, you want to **find an optimal policy**; the policy is the \"brain\" of your AI that will tell us what action to take given a state. The optimal one is the one that gives you the actions that max the expected return.\n",
        "\n",
        "There are **two** ways to find your optimal policy:\n",
        "\n",
        "- By **training your policy directly**: policy-based methods.\n",
        "- By **training a value function** that tells us the expected return the agent will get at each state and use this function to define our policy: value-based methods.\n",
        "\n",
        "- Finally, we spoke about Deep RL because **we introduce deep neural networks to estimate the action to take (policy-based) or to estimate the value of a state (value-based) hence the name \"deep.\"**"
      ]
    },
    {
      "cell_type": "markdown",
      "metadata": {
        "id": "qDploC3jSH99"
      },
      "source": [
        "# Let's train our first Deep Reinforcement Learning agent and upload it to the Hub 🚀\n",
        "\n",
        "## Get a certificate 🎓\n",
        "\n",
        "To validate this hands-on for the [certification process](https://huggingface.co/deep-rl-course/en/unit0/introduction#certification-process), you need to push your trained model to the Hub and **get a result of >= 200**.\n",
        "\n",
        "To find your result, go to the [leaderboard](https://huggingface.co/spaces/huggingface-projects/Deep-Reinforcement-Learning-Leaderboard) and find your model, **the result = mean_reward - std of reward**\n",
        "\n",
        "For more information about the certification process, check this section 👉 https://huggingface.co/deep-rl-course/en/unit0/introduction#certification-process"
      ]
    },
    {
      "cell_type": "markdown",
      "metadata": {
        "id": "HqzznTzhNfAC"
      },
      "source": [
        "## Set the GPU 💪\n",
        "\n",
        "- To **accelerate the agent's training, we'll use a GPU**. To do that, go to `Runtime > Change Runtime type`\n",
        "\n",
        "<img src=\"https://huggingface.co/datasets/huggingface-deep-rl-course/course-images/resolve/main/en/notebooks/gpu-step1.jpg\" alt=\"GPU Step 1\">"
      ]
    },
    {
      "cell_type": "markdown",
      "metadata": {
        "id": "38HBd3t1SHJ8"
      },
      "source": [
        "- `Hardware Accelerator > GPU`\n",
        "\n",
        "<img src=\"https://huggingface.co/datasets/huggingface-deep-rl-course/course-images/resolve/main/en/notebooks/gpu-step2.jpg\" alt=\"GPU Step 2\">"
      ]
    },
    {
      "cell_type": "markdown",
      "metadata": {
        "id": "jeDAH0h0EBiG"
      },
      "source": [
        "## Install dependencies and create a virtual screen 🔽\n",
        "\n",
        "The first step is to install the dependencies, we’ll install multiple ones.\n",
        "\n",
        "- `gymnasium[box2d]`: Contains the LunarLander-v2 environment 🌛\n",
        "- `stable-baselines3[extra]`: The deep reinforcement learning library.\n",
        "- `huggingface_sb3`: Additional code for Stable-baselines3 to load and upload models from the Hugging Face 🤗 Hub.\n",
        "\n",
        "To make things easier, we created a script to install all these dependencies."
      ]
    },
    {
      "cell_type": "code",
      "execution_count": null,
      "metadata": {
        "id": "yQIGLPDkGhgG"
      },
      "outputs": [],
      "source": [
        "!apt install swig cmake"
      ]
    },
    {
      "cell_type": "code",
      "execution_count": null,
      "metadata": {
        "id": "9XaULfDZDvrC"
      },
      "outputs": [],
      "source": [
        "!pip install -r https://raw.githubusercontent.com/huggingface/deep-rl-class/main/notebooks/unit1/requirements-unit1.txt"
      ]
    },
    {
      "cell_type": "markdown",
      "metadata": {
        "id": "BEKeXQJsQCYm"
      },
      "source": [
        "During the notebook, we'll need to generate a replay video. To do so, with colab, **we need to have a virtual screen to be able to render the environment** (and thus record the frames).\n",
        "\n",
        "Hence the following cell will install virtual screen libraries and create and run a virtual screen 🖥"
      ]
    },
    {
      "cell_type": "code",
      "execution_count": null,
      "metadata": {
        "id": "j5f2cGkdP-mb"
      },
      "outputs": [],
      "source": [
        "!sudo apt-get update\n",
        "!sudo apt-get install -y python3-opengl\n",
        "!apt install ffmpeg\n",
        "!apt install xvfb\n",
        "!pip3 install pyvirtualdisplay"
      ]
    },
    {
      "cell_type": "markdown",
      "metadata": {
        "id": "TCwBTAwAW9JJ"
      },
      "source": [
        "To make sure the new installed libraries are used, **sometimes it's required to restart the notebook runtime**. The next cell will force the **runtime to crash, so you'll need to connect again and run the code starting from here**. Thanks to this trick, **we will be able to run our virtual screen.**"
      ]
    },
    {
      "cell_type": "code",
      "execution_count": null,
      "metadata": {
        "id": "cYvkbef7XEMi"
      },
      "outputs": [],
      "source": [
        "import os\n",
        "os.kill(os.getpid(), 9)"
      ]
    },
    {
      "cell_type": "code",
      "execution_count": null,
      "metadata": {
        "id": "BE5JWP5rQIKf"
      },
      "outputs": [],
      "source": [
        "# Virtual display\n",
        "from pyvirtualdisplay import Display\n",
        "\n",
        "virtual_display = Display(visible=0, size=(1400, 900))\n",
        "virtual_display.start()"
      ]
    },
    {
      "cell_type": "markdown",
      "metadata": {
        "id": "wrgpVFqyENVf"
      },
      "source": [
        "## Import the packages 📦\n",
        "\n",
        "One additional library we import is huggingface_hub **to be able to upload and download trained models from the hub**.\n",
        "\n",
        "\n",
        "The Hugging Face Hub 🤗 works as a central place where anyone can share and explore models and datasets. It has versioning, metrics, visualizations and other features that will allow you to easily collaborate with others.\n",
        "\n",
        "You can see here all the Deep reinforcement Learning models available here👉 https://huggingface.co/models?pipeline_tag=reinforcement-learning&sort=downloads\n",
        "\n"
      ]
    },
    {
      "cell_type": "code",
      "execution_count": 1,
      "metadata": {
        "id": "cygWLPGsEQ0m"
      },
      "outputs": [
        {
          "name": "stderr",
          "output_type": "stream",
          "text": [
            "\n"
          ]
        }
      ],
      "source": [
        "import gymnasium\n",
        "\n",
        "from huggingface_sb3 import load_from_hub, package_to_hub\n",
        "from huggingface_hub import notebook_login # To log to our Hugging Face account to be able to upload models to the Hub.\n",
        "\n",
        "from stable_baselines3 import PPO\n",
        "from stable_baselines3.common.env_util import make_vec_env\n",
        "from stable_baselines3.common.evaluation import evaluate_policy\n",
        "from stable_baselines3.common.monitor import Monitor"
      ]
    },
    {
      "cell_type": "markdown",
      "metadata": {
        "id": "MRqRuRUl8CsB"
      },
      "source": [
        "## Understand Gymnasium and how it works 🤖\n",
        "\n",
        "🏋 The library containing our environment is called Gymnasium.\n",
        "**You'll use Gymnasium a lot in Deep Reinforcement Learning.**\n",
        "\n",
        "Gymnasium is the **new version of Gym library** [maintained by the Farama Foundation](https://farama.org/).\n",
        "\n",
        "The Gymnasium library provides two things:\n",
        "\n",
        "- An interface that allows you to **create RL environments**.\n",
        "- A **collection of environments** (gym-control, atari, box2D...).\n",
        "\n",
        "Let's look at an example, but first let's recall the RL loop.\n",
        "\n",
        "<img src=\"https://huggingface.co/datasets/huggingface-deep-rl-course/course-images/resolve/main/en/unit1/RL_process_game.jpg\" alt=\"The RL process\" width=\"100%\">"
      ]
    },
    {
      "cell_type": "markdown",
      "metadata": {
        "id": "-TzNN0bQ_j-3"
      },
      "source": [
        "At each step:\n",
        "- Our Agent receives a **state (S0)** from the **Environment** — we receive the first frame of our game (Environment).\n",
        "- Based on that **state (S0),** the Agent takes an **action (A0)** — our Agent will move to the right.\n",
        "- The environment transitions to a **new** **state (S1)** — new frame.\n",
        "- The environment gives some **reward (R1)** to the Agent — we’re not dead *(Positive Reward +1)*.\n",
        "\n",
        "\n",
        "With Gymnasium:\n",
        "\n",
        "1️⃣ We create our environment using `gymnasium.make()`\n",
        "\n",
        "2️⃣ We reset the environment to its initial state with `observation = env.reset()`\n",
        "\n",
        "At each step:\n",
        "\n",
        "3️⃣ Get an action using our model (in our example we take a random action)\n",
        "\n",
        "4️⃣ Using `env.step(action)`, we perform this action in the environment and get\n",
        "- `observation`: The new state (st+1)\n",
        "- `reward`: The reward we get after executing the action\n",
        "- `terminated`: Indicates if the episode terminated (agent reach the terminal state)\n",
        "- `truncated`: Introduced with this new version, it indicates a timelimit or if an agent go out of bounds of the environment for instance.\n",
        "- `info`: A dictionary that provides additional information (depends on the environment).\n",
        "\n",
        "For more explanations check this 👉 https://gymnasium.farama.org/api/env/#gymnasium.Env.step\n",
        "\n",
        "If the episode is terminated:\n",
        "- We reset the environment to its initial state with `observation = env.reset()`\n",
        "\n",
        "**Let's look at an example!** Make sure to read the code\n"
      ]
    },
    {
      "cell_type": "code",
      "execution_count": 2,
      "metadata": {
        "id": "w7vOFlpA_ONz"
      },
      "outputs": [
        {
          "name": "stdout",
          "output_type": "stream",
          "text": [
            "Action taken: 1\n",
            "Action taken: 0\n",
            "Action taken: 0\n",
            "Action taken: 0\n",
            "Action taken: 3\n",
            "Action taken: 1\n",
            "Action taken: 3\n",
            "Action taken: 2\n",
            "Action taken: 3\n",
            "Action taken: 0\n",
            "Action taken: 1\n",
            "Action taken: 1\n",
            "Action taken: 3\n",
            "Action taken: 0\n",
            "Action taken: 0\n",
            "Action taken: 0\n",
            "Action taken: 2\n",
            "Action taken: 0\n",
            "Action taken: 1\n",
            "Action taken: 3\n"
          ]
        }
      ],
      "source": [
        "import gymnasium as gym\n",
        "\n",
        "# First, we create our environment called LunarLander-v2\n",
        "env = gym.make(\"LunarLander-v2\")\n",
        "\n",
        "# Then we reset this environment\n",
        "observation, info = env.reset()\n",
        "\n",
        "for _ in range(20):\n",
        "  # Take a random action\n",
        "  action = env.action_space.sample()\n",
        "  print(\"Action taken:\", action)\n",
        "\n",
        "  # Do this action in the environment and get\n",
        "  # next_state, reward, terminated, truncated and info\n",
        "  observation, reward, terminated, truncated, info = env.step(action)\n",
        "\n",
        "  # If the game is terminated (in our case we land, crashed) or truncated (timeout)\n",
        "  if terminated or truncated:\n",
        "      # Reset the environment\n",
        "      print(\"Environment is reset\")\n",
        "      observation, info = env.reset()\n",
        "\n",
        "env.close()"
      ]
    },
    {
      "cell_type": "markdown",
      "metadata": {
        "id": "XIrKGGSlENZB"
      },
      "source": [
        "## Create the LunarLander environment 🌛 and understand how it works\n",
        "\n",
        "### [The environment 🎮](https://gymnasium.farama.org/environments/box2d/lunar_lander/)\n",
        "\n",
        "In this first tutorial, we’re going to train our agent, a [Lunar Lander](https://gymnasium.farama.org/environments/box2d/lunar_lander/), **to land correctly on the moon**. To do that, the agent needs to learn **to adapt its speed and position (horizontal, vertical, and angular) to land correctly.**\n",
        "\n",
        "---\n",
        "\n",
        "\n",
        "💡 A good habit when you start to use an environment is to check its documentation\n",
        "\n",
        "👉 https://gymnasium.farama.org/environments/box2d/lunar_lander/\n",
        "\n",
        "---\n"
      ]
    },
    {
      "cell_type": "markdown",
      "metadata": {
        "id": "poLBgRocF9aT"
      },
      "source": [
        "Let's see what the Environment looks like:\n"
      ]
    },
    {
      "cell_type": "code",
      "execution_count": 3,
      "metadata": {
        "id": "ZNPG0g_UGCfh"
      },
      "outputs": [
        {
          "name": "stdout",
          "output_type": "stream",
          "text": [
            "_____OBSERVATION SPACE_____ \n",
            "\n",
            "Observation Space Shape (8,)\n",
            "Sample observation [ 0.41512087  1.2816852   4.5413547  -3.8210597  -0.21198922 -0.6467323\n",
            "  0.790445    0.53933054]\n"
          ]
        }
      ],
      "source": [
        "# We create our environment with gym.make(\"<name_of_the_environment>\")\n",
        "env = gym.make(\"LunarLander-v2\")\n",
        "env.reset()\n",
        "print(\"_____OBSERVATION SPACE_____ \\n\")\n",
        "print(\"Observation Space Shape\", env.observation_space.shape)\n",
        "print(\"Sample observation\", env.observation_space.sample()) # Get a random observation"
      ]
    },
    {
      "cell_type": "markdown",
      "metadata": {
        "id": "2MXc15qFE0M9"
      },
      "source": [
        "We see with `Observation Space Shape (8,)` that the observation is a vector of size 8, where each value contains different information about the lander:\n",
        "- Horizontal pad coordinate (x)\n",
        "- Vertical pad coordinate (y)\n",
        "- Horizontal speed (x)\n",
        "- Vertical speed (y)\n",
        "- Angle\n",
        "- Angular speed\n",
        "- If the left leg contact point has touched the land (boolean)\n",
        "- If the right leg contact point has touched the land (boolean)\n"
      ]
    },
    {
      "cell_type": "code",
      "execution_count": 4,
      "metadata": {
        "id": "We5WqOBGLoSm"
      },
      "outputs": [
        {
          "name": "stdout",
          "output_type": "stream",
          "text": [
            "\n",
            " _____ACTION SPACE_____ \n",
            "\n",
            "Action Space Shape 4\n",
            "Action Space Sample 3\n"
          ]
        }
      ],
      "source": [
        "print(\"\\n _____ACTION SPACE_____ \\n\")\n",
        "print(\"Action Space Shape\", env.action_space.n)\n",
        "print(\"Action Space Sample\", env.action_space.sample()) # Take a random action"
      ]
    },
    {
      "cell_type": "markdown",
      "metadata": {
        "id": "MyxXwkI2Magx"
      },
      "source": [
        "The action space (the set of possible actions the agent can take) is discrete with 4 actions available 🎮:\n",
        "\n",
        "- Action 0: Do nothing,\n",
        "- Action 1: Fire left orientation engine,\n",
        "- Action 2: Fire the main engine,\n",
        "- Action 3: Fire right orientation engine.\n",
        "\n",
        "Reward function (the function that will give a reward at each timestep) 💰:\n",
        "\n",
        "After every step a reward is granted. The total reward of an episode is the **sum of the rewards for all the steps within that episode**.\n",
        "\n",
        "For each step, the reward:\n",
        "\n",
        "- Is increased/decreased the closer/further the lander is to the landing pad.\n",
        "-  Is increased/decreased the slower/faster the lander is moving.\n",
        "- Is decreased the more the lander is tilted (angle not horizontal).\n",
        "- Is increased by 10 points for each leg that is in contact with the ground.\n",
        "- Is decreased by 0.03 points each frame a side engine is firing.\n",
        "- Is decreased by 0.3 points each frame the main engine is firing.\n",
        "\n",
        "The episode receive an **additional reward of -100 or +100 points for crashing or landing safely respectively.**\n",
        "\n",
        "An episode is **considered a solution if it scores at least 200 points.**"
      ]
    },
    {
      "cell_type": "markdown",
      "metadata": {
        "id": "dFD9RAFjG8aq"
      },
      "source": [
        "#### Vectorized Environment\n",
        "\n",
        "- We create a vectorized environment (a method for stacking multiple independent environments into a single environment) of 16 environments, this way, **we'll have more diverse experiences during the training.**"
      ]
    },
    {
      "cell_type": "code",
      "execution_count": 5,
      "metadata": {
        "id": "99hqQ_etEy1N"
      },
      "outputs": [],
      "source": [
        "# Create the environment\n",
        "env = make_vec_env('LunarLander-v2', n_envs=16)"
      ]
    },
    {
      "cell_type": "markdown",
      "metadata": {
        "id": "VgrE86r5E5IK"
      },
      "source": [
        "## Create the Model 🤖\n",
        "- We have studied our environment and we understood the problem: **being able to land the Lunar Lander to the Landing Pad correctly by controlling left, right and main orientation engine**. Now let's build the algorithm we're going to use to solve this Problem 🚀.\n",
        "\n",
        "- To do so, we're going to use our first Deep RL library, [Stable Baselines3 (SB3)](https://stable-baselines3.readthedocs.io/en/master/).\n",
        "\n",
        "- SB3 is a set of **reliable implementations of reinforcement learning algorithms in PyTorch**.\n",
        "\n",
        "---\n",
        "\n",
        "💡 A good habit when using a new library is to dive first on the documentation: https://stable-baselines3.readthedocs.io/en/master/ and then try some tutorials.\n",
        "\n",
        "----"
      ]
    },
    {
      "cell_type": "markdown",
      "metadata": {
        "id": "HLlClRW37Q7e"
      },
      "source": [
        "<img src=\"https://huggingface.co/datasets/huggingface-deep-rl-course/course-images/resolve/main/en/unit1/sb3.png\" alt=\"Stable Baselines3\">"
      ]
    },
    {
      "cell_type": "markdown",
      "metadata": {
        "id": "HV4yiUM_9_Ka"
      },
      "source": [
        "To solve this problem, we're going to use SB3 **PPO**. [PPO (aka Proximal Policy Optimization) is one of the SOTA (state of the art) Deep Reinforcement Learning algorithms that you'll study during this course](https://stable-baselines3.readthedocs.io/en/master/modules/ppo.html#example%5D).\n",
        "\n",
        "PPO is a combination of:\n",
        "- *Value-based reinforcement learning method*: learning an action-value function that will tell us the **most valuable action to take given a state and action**.\n",
        "- *Policy-based reinforcement learning method*: learning a policy that will **give us a probability distribution over actions**."
      ]
    },
    {
      "cell_type": "markdown",
      "metadata": {
        "id": "5qL_4HeIOrEJ"
      },
      "source": [
        "Stable-Baselines3 is easy to set up:\n",
        "\n",
        "1️⃣ You **create your environment** (in our case it was done above)\n",
        "\n",
        "2️⃣ You define the **model you want to use and instantiate this model** `model = PPO(\"MlpPolicy\")`\n",
        "\n",
        "3️⃣ You **train the agent** with `model.learn` and define the number of training timesteps\n",
        "\n",
        "```\n",
        "# Create environment\n",
        "env = gym.make('LunarLander-v2')\n",
        "\n",
        "# Instantiate the agent\n",
        "model = PPO('MlpPolicy', env, verbose=1)\n",
        "# Train the agent\n",
        "model.learn(total_timesteps=int(2e5))\n",
        "```\n",
        "\n"
      ]
    },
    {
      "cell_type": "code",
      "execution_count": null,
      "metadata": {
        "id": "nxI6hT1GE4-A"
      },
      "outputs": [],
      "source": [
        "# TODO: Define a PPO MlpPolicy architecture\n",
        "# We use MultiLayerPerceptron (MLPPolicy) because the input is a vector,\n",
        "# if we had frames as input we would use CnnPolicy\n",
        "model ="
      ]
    },
    {
      "cell_type": "markdown",
      "metadata": {
        "id": "QAN7B0_HCVZC"
      },
      "source": [
        "#### Solution"
      ]
    },
    {
      "cell_type": "code",
      "execution_count": 6,
      "metadata": {
        "id": "543OHYDfcjK4"
      },
      "outputs": [
        {
          "name": "stdout",
          "output_type": "stream",
          "text": [
            "Using cuda device\n"
          ]
        },
        {
          "name": "stderr",
          "output_type": "stream",
          "text": [
            "/home/stalaei/miniconda3/envs/DeepRL/lib/python3.10/site-packages/stable_baselines3/common/on_policy_algorithm.py:150: UserWarning: You are trying to run PPO on the GPU, but it is primarily intended to run on the CPU when not using a CNN policy (you are using ActorCriticPolicy which should be a MlpPolicy). See https://github.com/DLR-RM/stable-baselines3/issues/1245 for more info. You can pass `device='cpu'` or `export CUDA_VISIBLE_DEVICES=` to force using the CPU.Note: The model will train, but the GPU utilization will be poor and the training might take longer than on CPU.\n",
            "  warnings.warn(\n"
          ]
        }
      ],
      "source": [
        "# SOLUTION\n",
        "# We added some parameters to accelerate the training\n",
        "model = PPO(\n",
        "    policy = 'MlpPolicy',\n",
        "    env = env,\n",
        "    n_steps = 1024,\n",
        "    batch_size = 64,\n",
        "    n_epochs = 4,\n",
        "    gamma = 0.999,\n",
        "    gae_lambda = 0.98,\n",
        "    ent_coef = 0.01,\n",
        "    verbose=1)"
      ]
    },
    {
      "cell_type": "markdown",
      "metadata": {
        "id": "ClJJk88yoBUi"
      },
      "source": [
        "## Train the PPO agent 🏃\n",
        "- Let's train our agent for 1,000,000 timesteps, don't forget to use GPU on Colab. It will take approximately ~20min, but you can use fewer timesteps if you just want to try it out.\n",
        "- During the training, take a ☕ break you deserved it 🤗"
      ]
    },
    {
      "cell_type": "code",
      "execution_count": null,
      "metadata": {
        "id": "qKnYkNiVp89p"
      },
      "outputs": [],
      "source": [
        "# TODO: Train it for 1,000,000 timesteps\n",
        "\n",
        "# TODO: Specify file name for model and save the model to file\n",
        "model_name = \"ppo-LunarLander-v2\"\n"
      ]
    },
    {
      "cell_type": "markdown",
      "metadata": {
        "id": "1bQzQ-QcE3zo"
      },
      "source": [
        "#### Solution"
      ]
    },
    {
      "cell_type": "code",
      "execution_count": 7,
      "metadata": {
        "id": "poBCy9u_csyR"
      },
      "outputs": [
        {
          "name": "stdout",
          "output_type": "stream",
          "text": [
            "---------------------------------\n",
            "| rollout/           |          |\n",
            "|    ep_len_mean     | 93.5     |\n",
            "|    ep_rew_mean     | -190     |\n",
            "| time/              |          |\n",
            "|    fps             | 2925     |\n",
            "|    iterations      | 1        |\n",
            "|    time_elapsed    | 5        |\n",
            "|    total_timesteps | 16384    |\n",
            "---------------------------------\n",
            "-----------------------------------------\n",
            "| rollout/                |             |\n",
            "|    ep_len_mean          | 95.7        |\n",
            "|    ep_rew_mean          | -140        |\n",
            "| time/                   |             |\n",
            "|    fps                  | 2201        |\n",
            "|    iterations           | 2           |\n",
            "|    time_elapsed         | 14          |\n",
            "|    total_timesteps      | 32768       |\n",
            "| train/                  |             |\n",
            "|    approx_kl            | 0.005249835 |\n",
            "|    clip_fraction        | 0.026       |\n",
            "|    clip_range           | 0.2         |\n",
            "|    entropy_loss         | -1.38       |\n",
            "|    explained_variance   | 0.000313    |\n",
            "|    learning_rate        | 0.0003      |\n",
            "|    loss                 | 2.25e+03    |\n",
            "|    n_updates            | 4           |\n",
            "|    policy_gradient_loss | -0.0044     |\n",
            "|    value_loss           | 5.01e+03    |\n",
            "-----------------------------------------\n",
            "------------------------------------------\n",
            "| rollout/                |              |\n",
            "|    ep_len_mean          | 92.2         |\n",
            "|    ep_rew_mean          | -120         |\n",
            "| time/                   |              |\n",
            "|    fps                  | 2097         |\n",
            "|    iterations           | 3            |\n",
            "|    time_elapsed         | 23           |\n",
            "|    total_timesteps      | 49152        |\n",
            "| train/                  |              |\n",
            "|    approx_kl            | 0.0052360687 |\n",
            "|    clip_fraction        | 0.0379       |\n",
            "|    clip_range           | 0.2          |\n",
            "|    entropy_loss         | -1.37        |\n",
            "|    explained_variance   | -0.00519     |\n",
            "|    learning_rate        | 0.0003       |\n",
            "|    loss                 | 897          |\n",
            "|    n_updates            | 8            |\n",
            "|    policy_gradient_loss | -0.00414     |\n",
            "|    value_loss           | 2.47e+03     |\n",
            "------------------------------------------\n",
            "-----------------------------------------\n",
            "| rollout/                |             |\n",
            "|    ep_len_mean          | 104         |\n",
            "|    ep_rew_mean          | -114        |\n",
            "| time/                   |             |\n",
            "|    fps                  | 2004        |\n",
            "|    iterations           | 4           |\n",
            "|    time_elapsed         | 32          |\n",
            "|    total_timesteps      | 65536       |\n",
            "| train/                  |             |\n",
            "|    approx_kl            | 0.009775303 |\n",
            "|    clip_fraction        | 0.0643      |\n",
            "|    clip_range           | 0.2         |\n",
            "|    entropy_loss         | -1.36       |\n",
            "|    explained_variance   | -0.000598   |\n",
            "|    learning_rate        | 0.0003      |\n",
            "|    loss                 | 413         |\n",
            "|    n_updates            | 12          |\n",
            "|    policy_gradient_loss | -0.0076     |\n",
            "|    value_loss           | 1.17e+03    |\n",
            "-----------------------------------------\n",
            "-----------------------------------------\n",
            "| rollout/                |             |\n",
            "|    ep_len_mean          | 102         |\n",
            "|    ep_rew_mean          | -93.3       |\n",
            "| time/                   |             |\n",
            "|    fps                  | 1951        |\n",
            "|    iterations           | 5           |\n",
            "|    time_elapsed         | 41          |\n",
            "|    total_timesteps      | 81920       |\n",
            "| train/                  |             |\n",
            "|    approx_kl            | 0.008565724 |\n",
            "|    clip_fraction        | 0.108       |\n",
            "|    clip_range           | 0.2         |\n",
            "|    entropy_loss         | -1.33       |\n",
            "|    explained_variance   | -0.00238    |\n",
            "|    learning_rate        | 0.0003      |\n",
            "|    loss                 | 346         |\n",
            "|    n_updates            | 16          |\n",
            "|    policy_gradient_loss | -0.00339    |\n",
            "|    value_loss           | 866         |\n",
            "-----------------------------------------\n",
            "-----------------------------------------\n",
            "| rollout/                |             |\n",
            "|    ep_len_mean          | 103         |\n",
            "|    ep_rew_mean          | -96.7       |\n",
            "| time/                   |             |\n",
            "|    fps                  | 1946        |\n",
            "|    iterations           | 6           |\n",
            "|    time_elapsed         | 50          |\n",
            "|    total_timesteps      | 98304       |\n",
            "| train/                  |             |\n",
            "|    approx_kl            | 0.009755676 |\n",
            "|    clip_fraction        | 0.109       |\n",
            "|    clip_range           | 0.2         |\n",
            "|    entropy_loss         | -1.32       |\n",
            "|    explained_variance   | -0.00475    |\n",
            "|    learning_rate        | 0.0003      |\n",
            "|    loss                 | 304         |\n",
            "|    n_updates            | 20          |\n",
            "|    policy_gradient_loss | -0.00626    |\n",
            "|    value_loss           | 634         |\n",
            "-----------------------------------------\n",
            "----------------------------------------\n",
            "| rollout/                |            |\n",
            "|    ep_len_mean          | 102        |\n",
            "|    ep_rew_mean          | -75.8      |\n",
            "| time/                   |            |\n",
            "|    fps                  | 1940       |\n",
            "|    iterations           | 7          |\n",
            "|    time_elapsed         | 59         |\n",
            "|    total_timesteps      | 114688     |\n",
            "| train/                  |            |\n",
            "|    approx_kl            | 0.01027848 |\n",
            "|    clip_fraction        | 0.14       |\n",
            "|    clip_range           | 0.2        |\n",
            "|    entropy_loss         | -1.3       |\n",
            "|    explained_variance   | -0.00138   |\n",
            "|    learning_rate        | 0.0003     |\n",
            "|    loss                 | 316        |\n",
            "|    n_updates            | 24         |\n",
            "|    policy_gradient_loss | -0.00601   |\n",
            "|    value_loss           | 627        |\n",
            "----------------------------------------\n",
            "-----------------------------------------\n",
            "| rollout/                |             |\n",
            "|    ep_len_mean          | 107         |\n",
            "|    ep_rew_mean          | -59.4       |\n",
            "| time/                   |             |\n",
            "|    fps                  | 1933        |\n",
            "|    iterations           | 8           |\n",
            "|    time_elapsed         | 67          |\n",
            "|    total_timesteps      | 131072      |\n",
            "| train/                  |             |\n",
            "|    approx_kl            | 0.009969599 |\n",
            "|    clip_fraction        | 0.081       |\n",
            "|    clip_range           | 0.2         |\n",
            "|    entropy_loss         | -1.29       |\n",
            "|    explained_variance   | -0.00914    |\n",
            "|    learning_rate        | 0.0003      |\n",
            "|    loss                 | 234         |\n",
            "|    n_updates            | 28          |\n",
            "|    policy_gradient_loss | -0.00712    |\n",
            "|    value_loss           | 478         |\n",
            "-----------------------------------------\n",
            "-----------------------------------------\n",
            "| rollout/                |             |\n",
            "|    ep_len_mean          | 108         |\n",
            "|    ep_rew_mean          | -52.7       |\n",
            "| time/                   |             |\n",
            "|    fps                  | 1922        |\n",
            "|    iterations           | 9           |\n",
            "|    time_elapsed         | 76          |\n",
            "|    total_timesteps      | 147456      |\n",
            "| train/                  |             |\n",
            "|    approx_kl            | 0.010886256 |\n",
            "|    clip_fraction        | 0.0955      |\n",
            "|    clip_range           | 0.2         |\n",
            "|    entropy_loss         | -1.24       |\n",
            "|    explained_variance   | -0.00123    |\n",
            "|    learning_rate        | 0.0003      |\n",
            "|    loss                 | 153         |\n",
            "|    n_updates            | 32          |\n",
            "|    policy_gradient_loss | -0.00642    |\n",
            "|    value_loss           | 463         |\n",
            "-----------------------------------------\n",
            "-----------------------------------------\n",
            "| rollout/                |             |\n",
            "|    ep_len_mean          | 123         |\n",
            "|    ep_rew_mean          | -33.2       |\n",
            "| time/                   |             |\n",
            "|    fps                  | 1892        |\n",
            "|    iterations           | 10          |\n",
            "|    time_elapsed         | 86          |\n",
            "|    total_timesteps      | 163840      |\n",
            "| train/                  |             |\n",
            "|    approx_kl            | 0.008074871 |\n",
            "|    clip_fraction        | 0.0515      |\n",
            "|    clip_range           | 0.2         |\n",
            "|    entropy_loss         | -1.22       |\n",
            "|    explained_variance   | 0.000197    |\n",
            "|    learning_rate        | 0.0003      |\n",
            "|    loss                 | 256         |\n",
            "|    n_updates            | 36          |\n",
            "|    policy_gradient_loss | -0.00336    |\n",
            "|    value_loss           | 513         |\n",
            "-----------------------------------------\n",
            "----------------------------------------\n",
            "| rollout/                |            |\n",
            "|    ep_len_mean          | 125        |\n",
            "|    ep_rew_mean          | -21.6      |\n",
            "| time/                   |            |\n",
            "|    fps                  | 1867       |\n",
            "|    iterations           | 11         |\n",
            "|    time_elapsed         | 96         |\n",
            "|    total_timesteps      | 180224     |\n",
            "| train/                  |            |\n",
            "|    approx_kl            | 0.00824731 |\n",
            "|    clip_fraction        | 0.0564     |\n",
            "|    clip_range           | 0.2        |\n",
            "|    entropy_loss         | -1.18      |\n",
            "|    explained_variance   | -0.000652  |\n",
            "|    learning_rate        | 0.0003     |\n",
            "|    loss                 | 227        |\n",
            "|    n_updates            | 40         |\n",
            "|    policy_gradient_loss | -0.00391   |\n",
            "|    value_loss           | 483        |\n",
            "----------------------------------------\n",
            "-----------------------------------------\n",
            "| rollout/                |             |\n",
            "|    ep_len_mean          | 151         |\n",
            "|    ep_rew_mean          | -16.1       |\n",
            "| time/                   |             |\n",
            "|    fps                  | 1814        |\n",
            "|    iterations           | 12          |\n",
            "|    time_elapsed         | 108         |\n",
            "|    total_timesteps      | 196608      |\n",
            "| train/                  |             |\n",
            "|    approx_kl            | 0.009055888 |\n",
            "|    clip_fraction        | 0.0562      |\n",
            "|    clip_range           | 0.2         |\n",
            "|    entropy_loss         | -1.15       |\n",
            "|    explained_variance   | -0.000513   |\n",
            "|    learning_rate        | 0.0003      |\n",
            "|    loss                 | 283         |\n",
            "|    n_updates            | 44          |\n",
            "|    policy_gradient_loss | -0.00351    |\n",
            "|    value_loss           | 639         |\n",
            "-----------------------------------------\n",
            "-----------------------------------------\n",
            "| rollout/                |             |\n",
            "|    ep_len_mean          | 201         |\n",
            "|    ep_rew_mean          | -16.3       |\n",
            "| time/                   |             |\n",
            "|    fps                  | 1737        |\n",
            "|    iterations           | 13          |\n",
            "|    time_elapsed         | 122         |\n",
            "|    total_timesteps      | 212992      |\n",
            "| train/                  |             |\n",
            "|    approx_kl            | 0.008054252 |\n",
            "|    clip_fraction        | 0.0534      |\n",
            "|    clip_range           | 0.2         |\n",
            "|    entropy_loss         | -1.16       |\n",
            "|    explained_variance   | -0.00691    |\n",
            "|    learning_rate        | 0.0003      |\n",
            "|    loss                 | 307         |\n",
            "|    n_updates            | 48          |\n",
            "|    policy_gradient_loss | -0.00154    |\n",
            "|    value_loss           | 680         |\n",
            "-----------------------------------------\n",
            "-----------------------------------------\n",
            "| rollout/                |             |\n",
            "|    ep_len_mean          | 269         |\n",
            "|    ep_rew_mean          | -16.8       |\n",
            "| time/                   |             |\n",
            "|    fps                  | 1637        |\n",
            "|    iterations           | 14          |\n",
            "|    time_elapsed         | 140         |\n",
            "|    total_timesteps      | 229376      |\n",
            "| train/                  |             |\n",
            "|    approx_kl            | 0.005836483 |\n",
            "|    clip_fraction        | 0.0291      |\n",
            "|    clip_range           | 0.2         |\n",
            "|    entropy_loss         | -1.15       |\n",
            "|    explained_variance   | -0.000542   |\n",
            "|    learning_rate        | 0.0003      |\n",
            "|    loss                 | 232         |\n",
            "|    n_updates            | 52          |\n",
            "|    policy_gradient_loss | -0.00215    |\n",
            "|    value_loss           | 689         |\n",
            "-----------------------------------------\n",
            "-----------------------------------------\n",
            "| rollout/                |             |\n",
            "|    ep_len_mean          | 361         |\n",
            "|    ep_rew_mean          | -5.56       |\n",
            "| time/                   |             |\n",
            "|    fps                  | 1546        |\n",
            "|    iterations           | 15          |\n",
            "|    time_elapsed         | 158         |\n",
            "|    total_timesteps      | 245760      |\n",
            "| train/                  |             |\n",
            "|    approx_kl            | 0.008047918 |\n",
            "|    clip_fraction        | 0.0634      |\n",
            "|    clip_range           | 0.2         |\n",
            "|    entropy_loss         | -1.21       |\n",
            "|    explained_variance   | 0.0283      |\n",
            "|    learning_rate        | 0.0003      |\n",
            "|    loss                 | 286         |\n",
            "|    n_updates            | 56          |\n",
            "|    policy_gradient_loss | -0.002      |\n",
            "|    value_loss           | 428         |\n",
            "-----------------------------------------\n",
            "------------------------------------------\n",
            "| rollout/                |              |\n",
            "|    ep_len_mean          | 446          |\n",
            "|    ep_rew_mean          | 6.67         |\n",
            "| time/                   |              |\n",
            "|    fps                  | 1485         |\n",
            "|    iterations           | 16           |\n",
            "|    time_elapsed         | 176          |\n",
            "|    total_timesteps      | 262144       |\n",
            "| train/                  |              |\n",
            "|    approx_kl            | 0.0035816068 |\n",
            "|    clip_fraction        | 0.0157       |\n",
            "|    clip_range           | 0.2          |\n",
            "|    entropy_loss         | -1.23        |\n",
            "|    explained_variance   | 0.318        |\n",
            "|    learning_rate        | 0.0003       |\n",
            "|    loss                 | 75.1         |\n",
            "|    n_updates            | 60           |\n",
            "|    policy_gradient_loss | -0.00209     |\n",
            "|    value_loss           | 254          |\n",
            "------------------------------------------\n",
            "-----------------------------------------\n",
            "| rollout/                |             |\n",
            "|    ep_len_mean          | 484         |\n",
            "|    ep_rew_mean          | 19.6        |\n",
            "| time/                   |             |\n",
            "|    fps                  | 1463        |\n",
            "|    iterations           | 17          |\n",
            "|    time_elapsed         | 190         |\n",
            "|    total_timesteps      | 278528      |\n",
            "| train/                  |             |\n",
            "|    approx_kl            | 0.005153988 |\n",
            "|    clip_fraction        | 0.02        |\n",
            "|    clip_range           | 0.2         |\n",
            "|    entropy_loss         | -1.18       |\n",
            "|    explained_variance   | 0.473       |\n",
            "|    learning_rate        | 0.0003      |\n",
            "|    loss                 | 170         |\n",
            "|    n_updates            | 64          |\n",
            "|    policy_gradient_loss | -0.00195    |\n",
            "|    value_loss           | 379         |\n",
            "-----------------------------------------\n",
            "------------------------------------------\n",
            "| rollout/                |              |\n",
            "|    ep_len_mean          | 529          |\n",
            "|    ep_rew_mean          | 26.8         |\n",
            "| time/                   |              |\n",
            "|    fps                  | 1434         |\n",
            "|    iterations           | 18           |\n",
            "|    time_elapsed         | 205          |\n",
            "|    total_timesteps      | 294912       |\n",
            "| train/                  |              |\n",
            "|    approx_kl            | 0.0053051454 |\n",
            "|    clip_fraction        | 0.0226       |\n",
            "|    clip_range           | 0.2          |\n",
            "|    entropy_loss         | -1.19        |\n",
            "|    explained_variance   | 0.646        |\n",
            "|    learning_rate        | 0.0003       |\n",
            "|    loss                 | 92.3         |\n",
            "|    n_updates            | 68           |\n",
            "|    policy_gradient_loss | -0.00142     |\n",
            "|    value_loss           | 270          |\n",
            "------------------------------------------\n",
            "-----------------------------------------\n",
            "| rollout/                |             |\n",
            "|    ep_len_mean          | 555         |\n",
            "|    ep_rew_mean          | 31.6        |\n",
            "| time/                   |             |\n",
            "|    fps                  | 1407        |\n",
            "|    iterations           | 19          |\n",
            "|    time_elapsed         | 221         |\n",
            "|    total_timesteps      | 311296      |\n",
            "| train/                  |             |\n",
            "|    approx_kl            | 0.005216783 |\n",
            "|    clip_fraction        | 0.0543      |\n",
            "|    clip_range           | 0.2         |\n",
            "|    entropy_loss         | -1.18       |\n",
            "|    explained_variance   | 0.753       |\n",
            "|    learning_rate        | 0.0003      |\n",
            "|    loss                 | 74.1        |\n",
            "|    n_updates            | 72          |\n",
            "|    policy_gradient_loss | -0.00277    |\n",
            "|    value_loss           | 181         |\n",
            "-----------------------------------------\n",
            "------------------------------------------\n",
            "| rollout/                |              |\n",
            "|    ep_len_mean          | 587          |\n",
            "|    ep_rew_mean          | 37.4         |\n",
            "| time/                   |              |\n",
            "|    fps                  | 1387         |\n",
            "|    iterations           | 20           |\n",
            "|    time_elapsed         | 236          |\n",
            "|    total_timesteps      | 327680       |\n",
            "| train/                  |              |\n",
            "|    approx_kl            | 0.0043923017 |\n",
            "|    clip_fraction        | 0.0412       |\n",
            "|    clip_range           | 0.2          |\n",
            "|    entropy_loss         | -1.16        |\n",
            "|    explained_variance   | 0.767        |\n",
            "|    learning_rate        | 0.0003       |\n",
            "|    loss                 | 34.7         |\n",
            "|    n_updates            | 76           |\n",
            "|    policy_gradient_loss | -0.00181     |\n",
            "|    value_loss           | 192          |\n",
            "------------------------------------------\n",
            "------------------------------------------\n",
            "| rollout/                |              |\n",
            "|    ep_len_mean          | 657          |\n",
            "|    ep_rew_mean          | 47           |\n",
            "| time/                   |              |\n",
            "|    fps                  | 1368         |\n",
            "|    iterations           | 21           |\n",
            "|    time_elapsed         | 251          |\n",
            "|    total_timesteps      | 344064       |\n",
            "| train/                  |              |\n",
            "|    approx_kl            | 0.0037697777 |\n",
            "|    clip_fraction        | 0.0269       |\n",
            "|    clip_range           | 0.2          |\n",
            "|    entropy_loss         | -1.16        |\n",
            "|    explained_variance   | 0.825        |\n",
            "|    learning_rate        | 0.0003       |\n",
            "|    loss                 | 55.6         |\n",
            "|    n_updates            | 80           |\n",
            "|    policy_gradient_loss | -0.00195     |\n",
            "|    value_loss           | 136          |\n",
            "------------------------------------------\n",
            "-----------------------------------------\n",
            "| rollout/                |             |\n",
            "|    ep_len_mean          | 701         |\n",
            "|    ep_rew_mean          | 55.2        |\n",
            "| time/                   |             |\n",
            "|    fps                  | 1351        |\n",
            "|    iterations           | 22          |\n",
            "|    time_elapsed         | 266         |\n",
            "|    total_timesteps      | 360448      |\n",
            "| train/                  |             |\n",
            "|    approx_kl            | 0.006039276 |\n",
            "|    clip_fraction        | 0.05        |\n",
            "|    clip_range           | 0.2         |\n",
            "|    entropy_loss         | -1.14       |\n",
            "|    explained_variance   | 0.835       |\n",
            "|    learning_rate        | 0.0003      |\n",
            "|    loss                 | 60          |\n",
            "|    n_updates            | 84          |\n",
            "|    policy_gradient_loss | -0.00103    |\n",
            "|    value_loss           | 114         |\n",
            "-----------------------------------------\n",
            "-----------------------------------------\n",
            "| rollout/                |             |\n",
            "|    ep_len_mean          | 750         |\n",
            "|    ep_rew_mean          | 61.3        |\n",
            "| time/                   |             |\n",
            "|    fps                  | 1333        |\n",
            "|    iterations           | 23          |\n",
            "|    time_elapsed         | 282         |\n",
            "|    total_timesteps      | 376832      |\n",
            "| train/                  |             |\n",
            "|    approx_kl            | 0.004728646 |\n",
            "|    clip_fraction        | 0.0182      |\n",
            "|    clip_range           | 0.2         |\n",
            "|    entropy_loss         | -1.14       |\n",
            "|    explained_variance   | 0.873       |\n",
            "|    learning_rate        | 0.0003      |\n",
            "|    loss                 | 27.1        |\n",
            "|    n_updates            | 88          |\n",
            "|    policy_gradient_loss | -0.00157    |\n",
            "|    value_loss           | 97.4        |\n",
            "-----------------------------------------\n",
            "------------------------------------------\n",
            "| rollout/                |              |\n",
            "|    ep_len_mean          | 750          |\n",
            "|    ep_rew_mean          | 64.6         |\n",
            "| time/                   |              |\n",
            "|    fps                  | 1319         |\n",
            "|    iterations           | 24           |\n",
            "|    time_elapsed         | 298          |\n",
            "|    total_timesteps      | 393216       |\n",
            "| train/                  |              |\n",
            "|    approx_kl            | 0.0053287856 |\n",
            "|    clip_fraction        | 0.0266       |\n",
            "|    clip_range           | 0.2          |\n",
            "|    entropy_loss         | -1.12        |\n",
            "|    explained_variance   | 0.864        |\n",
            "|    learning_rate        | 0.0003       |\n",
            "|    loss                 | 25.4         |\n",
            "|    n_updates            | 92           |\n",
            "|    policy_gradient_loss | -0.000584    |\n",
            "|    value_loss           | 96.3         |\n",
            "------------------------------------------\n",
            "------------------------------------------\n",
            "| rollout/                |              |\n",
            "|    ep_len_mean          | 780          |\n",
            "|    ep_rew_mean          | 69.3         |\n",
            "| time/                   |              |\n",
            "|    fps                  | 1304         |\n",
            "|    iterations           | 25           |\n",
            "|    time_elapsed         | 313          |\n",
            "|    total_timesteps      | 409600       |\n",
            "| train/                  |              |\n",
            "|    approx_kl            | 0.0055967225 |\n",
            "|    clip_fraction        | 0.027        |\n",
            "|    clip_range           | 0.2          |\n",
            "|    entropy_loss         | -1.08        |\n",
            "|    explained_variance   | 0.869        |\n",
            "|    learning_rate        | 0.0003       |\n",
            "|    loss                 | 27.5         |\n",
            "|    n_updates            | 96           |\n",
            "|    policy_gradient_loss | -0.00194     |\n",
            "|    value_loss           | 111          |\n",
            "------------------------------------------\n",
            "------------------------------------------\n",
            "| rollout/                |              |\n",
            "|    ep_len_mean          | 761          |\n",
            "|    ep_rew_mean          | 68.2         |\n",
            "| time/                   |              |\n",
            "|    fps                  | 1290         |\n",
            "|    iterations           | 26           |\n",
            "|    time_elapsed         | 329          |\n",
            "|    total_timesteps      | 425984       |\n",
            "| train/                  |              |\n",
            "|    approx_kl            | 0.0050425623 |\n",
            "|    clip_fraction        | 0.0391       |\n",
            "|    clip_range           | 0.2          |\n",
            "|    entropy_loss         | -1.1         |\n",
            "|    explained_variance   | 0.874        |\n",
            "|    learning_rate        | 0.0003       |\n",
            "|    loss                 | 40.8         |\n",
            "|    n_updates            | 100          |\n",
            "|    policy_gradient_loss | -0.00241     |\n",
            "|    value_loss           | 99.6         |\n",
            "------------------------------------------\n",
            "----------------------------------------\n",
            "| rollout/                |            |\n",
            "|    ep_len_mean          | 771        |\n",
            "|    ep_rew_mean          | 72.1       |\n",
            "| time/                   |            |\n",
            "|    fps                  | 1279       |\n",
            "|    iterations           | 27         |\n",
            "|    time_elapsed         | 345        |\n",
            "|    total_timesteps      | 442368     |\n",
            "| train/                  |            |\n",
            "|    approx_kl            | 0.00563954 |\n",
            "|    clip_fraction        | 0.0364     |\n",
            "|    clip_range           | 0.2        |\n",
            "|    entropy_loss         | -1.09      |\n",
            "|    explained_variance   | 0.902      |\n",
            "|    learning_rate        | 0.0003     |\n",
            "|    loss                 | 83         |\n",
            "|    n_updates            | 104        |\n",
            "|    policy_gradient_loss | -0.00157   |\n",
            "|    value_loss           | 83.3       |\n",
            "----------------------------------------\n",
            "-----------------------------------------\n",
            "| rollout/                |             |\n",
            "|    ep_len_mean          | 792         |\n",
            "|    ep_rew_mean          | 78.2        |\n",
            "| time/                   |             |\n",
            "|    fps                  | 1271        |\n",
            "|    iterations           | 28          |\n",
            "|    time_elapsed         | 360         |\n",
            "|    total_timesteps      | 458752      |\n",
            "| train/                  |             |\n",
            "|    approx_kl            | 0.006294839 |\n",
            "|    clip_fraction        | 0.0431      |\n",
            "|    clip_range           | 0.2         |\n",
            "|    entropy_loss         | -1.09       |\n",
            "|    explained_variance   | 0.874       |\n",
            "|    learning_rate        | 0.0003      |\n",
            "|    loss                 | 40.9        |\n",
            "|    n_updates            | 108         |\n",
            "|    policy_gradient_loss | -0.00135    |\n",
            "|    value_loss           | 119         |\n",
            "-----------------------------------------\n",
            "------------------------------------------\n",
            "| rollout/                |              |\n",
            "|    ep_len_mean          | 794          |\n",
            "|    ep_rew_mean          | 82.8         |\n",
            "| time/                   |              |\n",
            "|    fps                  | 1260         |\n",
            "|    iterations           | 29           |\n",
            "|    time_elapsed         | 376          |\n",
            "|    total_timesteps      | 475136       |\n",
            "| train/                  |              |\n",
            "|    approx_kl            | 0.0080363825 |\n",
            "|    clip_fraction        | 0.0587       |\n",
            "|    clip_range           | 0.2          |\n",
            "|    entropy_loss         | -1.06        |\n",
            "|    explained_variance   | 0.922        |\n",
            "|    learning_rate        | 0.0003       |\n",
            "|    loss                 | 8.75         |\n",
            "|    n_updates            | 112          |\n",
            "|    policy_gradient_loss | -0.00144     |\n",
            "|    value_loss           | 68.5         |\n",
            "------------------------------------------\n",
            "-----------------------------------------\n",
            "| rollout/                |             |\n",
            "|    ep_len_mean          | 817         |\n",
            "|    ep_rew_mean          | 90.1        |\n",
            "| time/                   |             |\n",
            "|    fps                  | 1250        |\n",
            "|    iterations           | 30          |\n",
            "|    time_elapsed         | 393         |\n",
            "|    total_timesteps      | 491520      |\n",
            "| train/                  |             |\n",
            "|    approx_kl            | 0.005809011 |\n",
            "|    clip_fraction        | 0.0302      |\n",
            "|    clip_range           | 0.2         |\n",
            "|    entropy_loss         | -1.07       |\n",
            "|    explained_variance   | 0.922       |\n",
            "|    learning_rate        | 0.0003      |\n",
            "|    loss                 | 41.1        |\n",
            "|    n_updates            | 116         |\n",
            "|    policy_gradient_loss | -0.000723   |\n",
            "|    value_loss           | 65          |\n",
            "-----------------------------------------\n",
            "-----------------------------------------\n",
            "| rollout/                |             |\n",
            "|    ep_len_mean          | 758         |\n",
            "|    ep_rew_mean          | 81.8        |\n",
            "| time/                   |             |\n",
            "|    fps                  | 1248        |\n",
            "|    iterations           | 31          |\n",
            "|    time_elapsed         | 406         |\n",
            "|    total_timesteps      | 507904      |\n",
            "| train/                  |             |\n",
            "|    approx_kl            | 0.005531624 |\n",
            "|    clip_fraction        | 0.0458      |\n",
            "|    clip_range           | 0.2         |\n",
            "|    entropy_loss         | -1.07       |\n",
            "|    explained_variance   | 0.939       |\n",
            "|    learning_rate        | 0.0003      |\n",
            "|    loss                 | 8.73        |\n",
            "|    n_updates            | 120         |\n",
            "|    policy_gradient_loss | -0.000818   |\n",
            "|    value_loss           | 55.7        |\n",
            "-----------------------------------------\n",
            "------------------------------------------\n",
            "| rollout/                |              |\n",
            "|    ep_len_mean          | 779          |\n",
            "|    ep_rew_mean          | 86.9         |\n",
            "| time/                   |              |\n",
            "|    fps                  | 1235         |\n",
            "|    iterations           | 32           |\n",
            "|    time_elapsed         | 424          |\n",
            "|    total_timesteps      | 524288       |\n",
            "| train/                  |              |\n",
            "|    approx_kl            | 0.0045320224 |\n",
            "|    clip_fraction        | 0.0303       |\n",
            "|    clip_range           | 0.2          |\n",
            "|    entropy_loss         | -1.05        |\n",
            "|    explained_variance   | 0.84         |\n",
            "|    learning_rate        | 0.0003       |\n",
            "|    loss                 | 31.9         |\n",
            "|    n_updates            | 124          |\n",
            "|    policy_gradient_loss | -0.00217     |\n",
            "|    value_loss           | 166          |\n",
            "------------------------------------------\n",
            "-----------------------------------------\n",
            "| rollout/                |             |\n",
            "|    ep_len_mean          | 798         |\n",
            "|    ep_rew_mean          | 94.1        |\n",
            "| time/                   |             |\n",
            "|    fps                  | 1223        |\n",
            "|    iterations           | 33          |\n",
            "|    time_elapsed         | 442         |\n",
            "|    total_timesteps      | 540672      |\n",
            "| train/                  |             |\n",
            "|    approx_kl            | 0.008425472 |\n",
            "|    clip_fraction        | 0.0574      |\n",
            "|    clip_range           | 0.2         |\n",
            "|    entropy_loss         | -1.07       |\n",
            "|    explained_variance   | 0.947       |\n",
            "|    learning_rate        | 0.0003      |\n",
            "|    loss                 | 11.2        |\n",
            "|    n_updates            | 128         |\n",
            "|    policy_gradient_loss | -0.000533   |\n",
            "|    value_loss           | 36.2        |\n",
            "-----------------------------------------\n",
            "-----------------------------------------\n",
            "| rollout/                |             |\n",
            "|    ep_len_mean          | 828         |\n",
            "|    ep_rew_mean          | 101         |\n",
            "| time/                   |             |\n",
            "|    fps                  | 1213        |\n",
            "|    iterations           | 34          |\n",
            "|    time_elapsed         | 459         |\n",
            "|    total_timesteps      | 557056      |\n",
            "| train/                  |             |\n",
            "|    approx_kl            | 0.007786522 |\n",
            "|    clip_fraction        | 0.0443      |\n",
            "|    clip_range           | 0.2         |\n",
            "|    entropy_loss         | -1.03       |\n",
            "|    explained_variance   | 0.888       |\n",
            "|    learning_rate        | 0.0003      |\n",
            "|    loss                 | 93.5        |\n",
            "|    n_updates            | 132         |\n",
            "|    policy_gradient_loss | -0.000655   |\n",
            "|    value_loss           | 95.6        |\n",
            "-----------------------------------------\n",
            "-----------------------------------------\n",
            "| rollout/                |             |\n",
            "|    ep_len_mean          | 837         |\n",
            "|    ep_rew_mean          | 105         |\n",
            "| time/                   |             |\n",
            "|    fps                  | 1206        |\n",
            "|    iterations           | 35          |\n",
            "|    time_elapsed         | 475         |\n",
            "|    total_timesteps      | 573440      |\n",
            "| train/                  |             |\n",
            "|    approx_kl            | 0.004542482 |\n",
            "|    clip_fraction        | 0.0358      |\n",
            "|    clip_range           | 0.2         |\n",
            "|    entropy_loss         | -1.04       |\n",
            "|    explained_variance   | 0.974       |\n",
            "|    learning_rate        | 0.0003      |\n",
            "|    loss                 | 8.69        |\n",
            "|    n_updates            | 136         |\n",
            "|    policy_gradient_loss | -0.00116    |\n",
            "|    value_loss           | 18.6        |\n",
            "-----------------------------------------\n",
            "------------------------------------------\n",
            "| rollout/                |              |\n",
            "|    ep_len_mean          | 895          |\n",
            "|    ep_rew_mean          | 116          |\n",
            "| time/                   |              |\n",
            "|    fps                  | 1199         |\n",
            "|    iterations           | 36           |\n",
            "|    time_elapsed         | 491          |\n",
            "|    total_timesteps      | 589824       |\n",
            "| train/                  |              |\n",
            "|    approx_kl            | 0.0075587435 |\n",
            "|    clip_fraction        | 0.0522       |\n",
            "|    clip_range           | 0.2          |\n",
            "|    entropy_loss         | -1.05        |\n",
            "|    explained_variance   | 0.969        |\n",
            "|    learning_rate        | 0.0003       |\n",
            "|    loss                 | 6.4          |\n",
            "|    n_updates            | 140          |\n",
            "|    policy_gradient_loss | -0.00123     |\n",
            "|    value_loss           | 25.7         |\n",
            "------------------------------------------\n",
            "------------------------------------------\n",
            "| rollout/                |              |\n",
            "|    ep_len_mean          | 934          |\n",
            "|    ep_rew_mean          | 126          |\n",
            "| time/                   |              |\n",
            "|    fps                  | 1191         |\n",
            "|    iterations           | 37           |\n",
            "|    time_elapsed         | 508          |\n",
            "|    total_timesteps      | 606208       |\n",
            "| train/                  |              |\n",
            "|    approx_kl            | 0.0058693355 |\n",
            "|    clip_fraction        | 0.0375       |\n",
            "|    clip_range           | 0.2          |\n",
            "|    entropy_loss         | -1.04        |\n",
            "|    explained_variance   | 0.985        |\n",
            "|    learning_rate        | 0.0003       |\n",
            "|    loss                 | 1.76         |\n",
            "|    n_updates            | 144          |\n",
            "|    policy_gradient_loss | -0.00123     |\n",
            "|    value_loss           | 10.6         |\n",
            "------------------------------------------\n",
            "------------------------------------------\n",
            "| rollout/                |              |\n",
            "|    ep_len_mean          | 943          |\n",
            "|    ep_rew_mean          | 129          |\n",
            "| time/                   |              |\n",
            "|    fps                  | 1186         |\n",
            "|    iterations           | 38           |\n",
            "|    time_elapsed         | 524          |\n",
            "|    total_timesteps      | 622592       |\n",
            "| train/                  |              |\n",
            "|    approx_kl            | 0.0064790077 |\n",
            "|    clip_fraction        | 0.0284       |\n",
            "|    clip_range           | 0.2          |\n",
            "|    entropy_loss         | -0.998       |\n",
            "|    explained_variance   | 0.981        |\n",
            "|    learning_rate        | 0.0003       |\n",
            "|    loss                 | 6.2          |\n",
            "|    n_updates            | 148          |\n",
            "|    policy_gradient_loss | -0.000717    |\n",
            "|    value_loss           | 14.7         |\n",
            "------------------------------------------\n",
            "------------------------------------------\n",
            "| rollout/                |              |\n",
            "|    ep_len_mean          | 978          |\n",
            "|    ep_rew_mean          | 135          |\n",
            "| time/                   |              |\n",
            "|    fps                  | 1182         |\n",
            "|    iterations           | 39           |\n",
            "|    time_elapsed         | 540          |\n",
            "|    total_timesteps      | 638976       |\n",
            "| train/                  |              |\n",
            "|    approx_kl            | 0.0059837736 |\n",
            "|    clip_fraction        | 0.0491       |\n",
            "|    clip_range           | 0.2          |\n",
            "|    entropy_loss         | -1.03        |\n",
            "|    explained_variance   | 0.963        |\n",
            "|    learning_rate        | 0.0003       |\n",
            "|    loss                 | 2.42         |\n",
            "|    n_updates            | 152          |\n",
            "|    policy_gradient_loss | -0.00133     |\n",
            "|    value_loss           | 38.5         |\n",
            "------------------------------------------\n",
            "-----------------------------------------\n",
            "| rollout/                |             |\n",
            "|    ep_len_mean          | 971         |\n",
            "|    ep_rew_mean          | 134         |\n",
            "| time/                   |             |\n",
            "|    fps                  | 1179        |\n",
            "|    iterations           | 40          |\n",
            "|    time_elapsed         | 555         |\n",
            "|    total_timesteps      | 655360      |\n",
            "| train/                  |             |\n",
            "|    approx_kl            | 0.005414408 |\n",
            "|    clip_fraction        | 0.0427      |\n",
            "|    clip_range           | 0.2         |\n",
            "|    entropy_loss         | -1.05       |\n",
            "|    explained_variance   | 0.983       |\n",
            "|    learning_rate        | 0.0003      |\n",
            "|    loss                 | 5.31        |\n",
            "|    n_updates            | 156         |\n",
            "|    policy_gradient_loss | -0.000835   |\n",
            "|    value_loss           | 15.5        |\n",
            "-----------------------------------------\n",
            "------------------------------------------\n",
            "| rollout/                |              |\n",
            "|    ep_len_mean          | 978          |\n",
            "|    ep_rew_mean          | 136          |\n",
            "| time/                   |              |\n",
            "|    fps                  | 1174         |\n",
            "|    iterations           | 41           |\n",
            "|    time_elapsed         | 571          |\n",
            "|    total_timesteps      | 671744       |\n",
            "| train/                  |              |\n",
            "|    approx_kl            | 0.0059156585 |\n",
            "|    clip_fraction        | 0.0506       |\n",
            "|    clip_range           | 0.2          |\n",
            "|    entropy_loss         | -0.997       |\n",
            "|    explained_variance   | 0.984        |\n",
            "|    learning_rate        | 0.0003       |\n",
            "|    loss                 | 9.57         |\n",
            "|    n_updates            | 160          |\n",
            "|    policy_gradient_loss | -0.00116     |\n",
            "|    value_loss           | 18           |\n",
            "------------------------------------------\n",
            "------------------------------------------\n",
            "| rollout/                |              |\n",
            "|    ep_len_mean          | 971          |\n",
            "|    ep_rew_mean          | 136          |\n",
            "| time/                   |              |\n",
            "|    fps                  | 1170         |\n",
            "|    iterations           | 42           |\n",
            "|    time_elapsed         | 587          |\n",
            "|    total_timesteps      | 688128       |\n",
            "| train/                  |              |\n",
            "|    approx_kl            | 0.0040988927 |\n",
            "|    clip_fraction        | 0.0501       |\n",
            "|    clip_range           | 0.2          |\n",
            "|    entropy_loss         | -1.03        |\n",
            "|    explained_variance   | 0.992        |\n",
            "|    learning_rate        | 0.0003       |\n",
            "|    loss                 | 1.43         |\n",
            "|    n_updates            | 164          |\n",
            "|    policy_gradient_loss | -0.00125     |\n",
            "|    value_loss           | 8.65         |\n",
            "------------------------------------------\n",
            "------------------------------------------\n",
            "| rollout/                |              |\n",
            "|    ep_len_mean          | 971          |\n",
            "|    ep_rew_mean          | 139          |\n",
            "| time/                   |              |\n",
            "|    fps                  | 1166         |\n",
            "|    iterations           | 43           |\n",
            "|    time_elapsed         | 604          |\n",
            "|    total_timesteps      | 704512       |\n",
            "| train/                  |              |\n",
            "|    approx_kl            | 0.0060865474 |\n",
            "|    clip_fraction        | 0.0255       |\n",
            "|    clip_range           | 0.2          |\n",
            "|    entropy_loss         | -1           |\n",
            "|    explained_variance   | 0.986        |\n",
            "|    learning_rate        | 0.0003       |\n",
            "|    loss                 | 1.71         |\n",
            "|    n_updates            | 168          |\n",
            "|    policy_gradient_loss | -0.000823    |\n",
            "|    value_loss           | 16.5         |\n",
            "------------------------------------------\n",
            "----------------------------------------\n",
            "| rollout/                |            |\n",
            "|    ep_len_mean          | 985        |\n",
            "|    ep_rew_mean          | 141        |\n",
            "| time/                   |            |\n",
            "|    fps                  | 1163       |\n",
            "|    iterations           | 44         |\n",
            "|    time_elapsed         | 619        |\n",
            "|    total_timesteps      | 720896     |\n",
            "| train/                  |            |\n",
            "|    approx_kl            | 0.00547789 |\n",
            "|    clip_fraction        | 0.0596     |\n",
            "|    clip_range           | 0.2        |\n",
            "|    entropy_loss         | -0.977     |\n",
            "|    explained_variance   | 0.991      |\n",
            "|    learning_rate        | 0.0003     |\n",
            "|    loss                 | 1.73       |\n",
            "|    n_updates            | 172        |\n",
            "|    policy_gradient_loss | -0.000948  |\n",
            "|    value_loss           | 6.56       |\n",
            "----------------------------------------\n",
            "-----------------------------------------\n",
            "| rollout/                |             |\n",
            "|    ep_len_mean          | 985         |\n",
            "|    ep_rew_mean          | 142         |\n",
            "| time/                   |             |\n",
            "|    fps                  | 1161        |\n",
            "|    iterations           | 45          |\n",
            "|    time_elapsed         | 635         |\n",
            "|    total_timesteps      | 737280      |\n",
            "| train/                  |             |\n",
            "|    approx_kl            | 0.003239825 |\n",
            "|    clip_fraction        | 0.0227      |\n",
            "|    clip_range           | 0.2         |\n",
            "|    entropy_loss         | -0.972      |\n",
            "|    explained_variance   | 0.993       |\n",
            "|    learning_rate        | 0.0003      |\n",
            "|    loss                 | 3.54        |\n",
            "|    n_updates            | 176         |\n",
            "|    policy_gradient_loss | 0.000302    |\n",
            "|    value_loss           | 6.14        |\n",
            "-----------------------------------------\n",
            "------------------------------------------\n",
            "| rollout/                |              |\n",
            "|    ep_len_mean          | 993          |\n",
            "|    ep_rew_mean          | 144          |\n",
            "| time/                   |              |\n",
            "|    fps                  | 1159         |\n",
            "|    iterations           | 46           |\n",
            "|    time_elapsed         | 649          |\n",
            "|    total_timesteps      | 753664       |\n",
            "| train/                  |              |\n",
            "|    approx_kl            | 0.0036840711 |\n",
            "|    clip_fraction        | 0.0388       |\n",
            "|    clip_range           | 0.2          |\n",
            "|    entropy_loss         | -0.93        |\n",
            "|    explained_variance   | 0.996        |\n",
            "|    learning_rate        | 0.0003       |\n",
            "|    loss                 | 3.36         |\n",
            "|    n_updates            | 180          |\n",
            "|    policy_gradient_loss | -0.000883    |\n",
            "|    value_loss           | 3.96         |\n",
            "------------------------------------------\n",
            "------------------------------------------\n",
            "| rollout/                |              |\n",
            "|    ep_len_mean          | 979          |\n",
            "|    ep_rew_mean          | 143          |\n",
            "| time/                   |              |\n",
            "|    fps                  | 1157         |\n",
            "|    iterations           | 47           |\n",
            "|    time_elapsed         | 665          |\n",
            "|    total_timesteps      | 770048       |\n",
            "| train/                  |              |\n",
            "|    approx_kl            | 0.0037325416 |\n",
            "|    clip_fraction        | 0.0484       |\n",
            "|    clip_range           | 0.2          |\n",
            "|    entropy_loss         | -0.947       |\n",
            "|    explained_variance   | 0.995        |\n",
            "|    learning_rate        | 0.0003       |\n",
            "|    loss                 | 1.31         |\n",
            "|    n_updates            | 184          |\n",
            "|    policy_gradient_loss | 4.31e-06     |\n",
            "|    value_loss           | 4.89         |\n",
            "------------------------------------------\n",
            "-----------------------------------------\n",
            "| rollout/                |             |\n",
            "|    ep_len_mean          | 979         |\n",
            "|    ep_rew_mean          | 143         |\n",
            "| time/                   |             |\n",
            "|    fps                  | 1154        |\n",
            "|    iterations           | 48          |\n",
            "|    time_elapsed         | 681         |\n",
            "|    total_timesteps      | 786432      |\n",
            "| train/                  |             |\n",
            "|    approx_kl            | 0.004832403 |\n",
            "|    clip_fraction        | 0.0418      |\n",
            "|    clip_range           | 0.2         |\n",
            "|    entropy_loss         | -0.909      |\n",
            "|    explained_variance   | 0.974       |\n",
            "|    learning_rate        | 0.0003      |\n",
            "|    loss                 | 38.4        |\n",
            "|    n_updates            | 188         |\n",
            "|    policy_gradient_loss | -0.000573   |\n",
            "|    value_loss           | 33.4        |\n",
            "-----------------------------------------\n",
            "-----------------------------------------\n",
            "| rollout/                |             |\n",
            "|    ep_len_mean          | 979         |\n",
            "|    ep_rew_mean          | 141         |\n",
            "| time/                   |             |\n",
            "|    fps                  | 1151        |\n",
            "|    iterations           | 49          |\n",
            "|    time_elapsed         | 697         |\n",
            "|    total_timesteps      | 802816      |\n",
            "| train/                  |             |\n",
            "|    approx_kl            | 0.008932109 |\n",
            "|    clip_fraction        | 0.0599      |\n",
            "|    clip_range           | 0.2         |\n",
            "|    entropy_loss         | -0.885      |\n",
            "|    explained_variance   | 0.988       |\n",
            "|    learning_rate        | 0.0003      |\n",
            "|    loss                 | 57.7        |\n",
            "|    n_updates            | 192         |\n",
            "|    policy_gradient_loss | -0.00146    |\n",
            "|    value_loss           | 15.6        |\n",
            "-----------------------------------------\n",
            "-----------------------------------------\n",
            "| rollout/                |             |\n",
            "|    ep_len_mean          | 974         |\n",
            "|    ep_rew_mean          | 142         |\n",
            "| time/                   |             |\n",
            "|    fps                  | 1149        |\n",
            "|    iterations           | 50          |\n",
            "|    time_elapsed         | 712         |\n",
            "|    total_timesteps      | 819200      |\n",
            "| train/                  |             |\n",
            "|    approx_kl            | 0.003375117 |\n",
            "|    clip_fraction        | 0.04        |\n",
            "|    clip_range           | 0.2         |\n",
            "|    entropy_loss         | -0.864      |\n",
            "|    explained_variance   | 0.996       |\n",
            "|    learning_rate        | 0.0003      |\n",
            "|    loss                 | 1.33        |\n",
            "|    n_updates            | 196         |\n",
            "|    policy_gradient_loss | -0.00018    |\n",
            "|    value_loss           | 4.17        |\n",
            "-----------------------------------------\n",
            "----------------------------------------\n",
            "| rollout/                |            |\n",
            "|    ep_len_mean          | 973        |\n",
            "|    ep_rew_mean          | 141        |\n",
            "| time/                   |            |\n",
            "|    fps                  | 1147       |\n",
            "|    iterations           | 51         |\n",
            "|    time_elapsed         | 728        |\n",
            "|    total_timesteps      | 835584     |\n",
            "| train/                  |            |\n",
            "|    approx_kl            | 0.00455503 |\n",
            "|    clip_fraction        | 0.0606     |\n",
            "|    clip_range           | 0.2        |\n",
            "|    entropy_loss         | -0.858     |\n",
            "|    explained_variance   | 0.98       |\n",
            "|    learning_rate        | 0.0003     |\n",
            "|    loss                 | 2.88       |\n",
            "|    n_updates            | 200        |\n",
            "|    policy_gradient_loss | -0.0015    |\n",
            "|    value_loss           | 21.6       |\n",
            "----------------------------------------\n",
            "------------------------------------------\n",
            "| rollout/                |              |\n",
            "|    ep_len_mean          | 966          |\n",
            "|    ep_rew_mean          | 143          |\n",
            "| time/                   |              |\n",
            "|    fps                  | 1146         |\n",
            "|    iterations           | 52           |\n",
            "|    time_elapsed         | 742          |\n",
            "|    total_timesteps      | 851968       |\n",
            "| train/                  |              |\n",
            "|    approx_kl            | 0.0031422782 |\n",
            "|    clip_fraction        | 0.0423       |\n",
            "|    clip_range           | 0.2          |\n",
            "|    entropy_loss         | -0.815       |\n",
            "|    explained_variance   | 0.984        |\n",
            "|    learning_rate        | 0.0003       |\n",
            "|    loss                 | 1.64         |\n",
            "|    n_updates            | 204          |\n",
            "|    policy_gradient_loss | 0.000101     |\n",
            "|    value_loss           | 24.5         |\n",
            "------------------------------------------\n",
            "------------------------------------------\n",
            "| rollout/                |              |\n",
            "|    ep_len_mean          | 961          |\n",
            "|    ep_rew_mean          | 143          |\n",
            "| time/                   |              |\n",
            "|    fps                  | 1146         |\n",
            "|    iterations           | 53           |\n",
            "|    time_elapsed         | 757          |\n",
            "|    total_timesteps      | 868352       |\n",
            "| train/                  |              |\n",
            "|    approx_kl            | 0.0030257362 |\n",
            "|    clip_fraction        | 0.0384       |\n",
            "|    clip_range           | 0.2          |\n",
            "|    entropy_loss         | -0.823       |\n",
            "|    explained_variance   | 0.977        |\n",
            "|    learning_rate        | 0.0003       |\n",
            "|    loss                 | 5.91         |\n",
            "|    n_updates            | 208          |\n",
            "|    policy_gradient_loss | -0.00057     |\n",
            "|    value_loss           | 34.9         |\n",
            "------------------------------------------\n",
            "------------------------------------------\n",
            "| rollout/                |              |\n",
            "|    ep_len_mean          | 962          |\n",
            "|    ep_rew_mean          | 148          |\n",
            "| time/                   |              |\n",
            "|    fps                  | 1145         |\n",
            "|    iterations           | 54           |\n",
            "|    time_elapsed         | 772          |\n",
            "|    total_timesteps      | 884736       |\n",
            "| train/                  |              |\n",
            "|    approx_kl            | 0.0039420985 |\n",
            "|    clip_fraction        | 0.0363       |\n",
            "|    clip_range           | 0.2          |\n",
            "|    entropy_loss         | -0.814       |\n",
            "|    explained_variance   | 0.964        |\n",
            "|    learning_rate        | 0.0003       |\n",
            "|    loss                 | 2.28         |\n",
            "|    n_updates            | 212          |\n",
            "|    policy_gradient_loss | -0.000545    |\n",
            "|    value_loss           | 49           |\n",
            "------------------------------------------\n",
            "-----------------------------------------\n",
            "| rollout/                |             |\n",
            "|    ep_len_mean          | 955         |\n",
            "|    ep_rew_mean          | 147         |\n",
            "| time/                   |             |\n",
            "|    fps                  | 1144        |\n",
            "|    iterations           | 55          |\n",
            "|    time_elapsed         | 787         |\n",
            "|    total_timesteps      | 901120      |\n",
            "| train/                  |             |\n",
            "|    approx_kl            | 0.004450186 |\n",
            "|    clip_fraction        | 0.0583      |\n",
            "|    clip_range           | 0.2         |\n",
            "|    entropy_loss         | -0.854      |\n",
            "|    explained_variance   | 0.97        |\n",
            "|    learning_rate        | 0.0003      |\n",
            "|    loss                 | 1.34        |\n",
            "|    n_updates            | 216         |\n",
            "|    policy_gradient_loss | 0.000367    |\n",
            "|    value_loss           | 42.8        |\n",
            "-----------------------------------------\n",
            "------------------------------------------\n",
            "| rollout/                |              |\n",
            "|    ep_len_mean          | 960          |\n",
            "|    ep_rew_mean          | 146          |\n",
            "| time/                   |              |\n",
            "|    fps                  | 1144         |\n",
            "|    iterations           | 56           |\n",
            "|    time_elapsed         | 801          |\n",
            "|    total_timesteps      | 917504       |\n",
            "| train/                  |              |\n",
            "|    approx_kl            | 0.0057487544 |\n",
            "|    clip_fraction        | 0.0574       |\n",
            "|    clip_range           | 0.2          |\n",
            "|    entropy_loss         | -0.858       |\n",
            "|    explained_variance   | 0.982        |\n",
            "|    learning_rate        | 0.0003       |\n",
            "|    loss                 | 0.988        |\n",
            "|    n_updates            | 220          |\n",
            "|    policy_gradient_loss | 2.28e-05     |\n",
            "|    value_loss           | 14.1         |\n",
            "------------------------------------------\n",
            "----------------------------------------\n",
            "| rollout/                |            |\n",
            "|    ep_len_mean          | 952        |\n",
            "|    ep_rew_mean          | 145        |\n",
            "| time/                   |            |\n",
            "|    fps                  | 1142       |\n",
            "|    iterations           | 57         |\n",
            "|    time_elapsed         | 817        |\n",
            "|    total_timesteps      | 933888     |\n",
            "| train/                  |            |\n",
            "|    approx_kl            | 0.00415798 |\n",
            "|    clip_fraction        | 0.0505     |\n",
            "|    clip_range           | 0.2        |\n",
            "|    entropy_loss         | -0.83      |\n",
            "|    explained_variance   | 0.998      |\n",
            "|    learning_rate        | 0.0003     |\n",
            "|    loss                 | 0.748      |\n",
            "|    n_updates            | 224        |\n",
            "|    policy_gradient_loss | 0.000899   |\n",
            "|    value_loss           | 2.57       |\n",
            "----------------------------------------\n",
            "------------------------------------------\n",
            "| rollout/                |              |\n",
            "|    ep_len_mean          | 957          |\n",
            "|    ep_rew_mean          | 147          |\n",
            "| time/                   |              |\n",
            "|    fps                  | 1142         |\n",
            "|    iterations           | 58           |\n",
            "|    time_elapsed         | 831          |\n",
            "|    total_timesteps      | 950272       |\n",
            "| train/                  |              |\n",
            "|    approx_kl            | 0.0046683964 |\n",
            "|    clip_fraction        | 0.0466       |\n",
            "|    clip_range           | 0.2          |\n",
            "|    entropy_loss         | -0.824       |\n",
            "|    explained_variance   | 0.975        |\n",
            "|    learning_rate        | 0.0003       |\n",
            "|    loss                 | 18.5         |\n",
            "|    n_updates            | 228          |\n",
            "|    policy_gradient_loss | -0.000828    |\n",
            "|    value_loss           | 35.9         |\n",
            "------------------------------------------\n",
            "------------------------------------------\n",
            "| rollout/                |              |\n",
            "|    ep_len_mean          | 958          |\n",
            "|    ep_rew_mean          | 153          |\n",
            "| time/                   |              |\n",
            "|    fps                  | 1142         |\n",
            "|    iterations           | 59           |\n",
            "|    time_elapsed         | 845          |\n",
            "|    total_timesteps      | 966656       |\n",
            "| train/                  |              |\n",
            "|    approx_kl            | 0.0049506873 |\n",
            "|    clip_fraction        | 0.0407       |\n",
            "|    clip_range           | 0.2          |\n",
            "|    entropy_loss         | -0.806       |\n",
            "|    explained_variance   | 0.97         |\n",
            "|    learning_rate        | 0.0003       |\n",
            "|    loss                 | 30.5         |\n",
            "|    n_updates            | 232          |\n",
            "|    policy_gradient_loss | -0.000429    |\n",
            "|    value_loss           | 40.1         |\n",
            "------------------------------------------\n",
            "------------------------------------------\n",
            "| rollout/                |              |\n",
            "|    ep_len_mean          | 948          |\n",
            "|    ep_rew_mean          | 156          |\n",
            "| time/                   |              |\n",
            "|    fps                  | 1142         |\n",
            "|    iterations           | 60           |\n",
            "|    time_elapsed         | 860          |\n",
            "|    total_timesteps      | 983040       |\n",
            "| train/                  |              |\n",
            "|    approx_kl            | 0.0039953515 |\n",
            "|    clip_fraction        | 0.0382       |\n",
            "|    clip_range           | 0.2          |\n",
            "|    entropy_loss         | -0.763       |\n",
            "|    explained_variance   | 0.944        |\n",
            "|    learning_rate        | 0.0003       |\n",
            "|    loss                 | 27.2         |\n",
            "|    n_updates            | 236          |\n",
            "|    policy_gradient_loss | -0.00121     |\n",
            "|    value_loss           | 91.1         |\n",
            "------------------------------------------\n",
            "------------------------------------------\n",
            "| rollout/                |              |\n",
            "|    ep_len_mean          | 935          |\n",
            "|    ep_rew_mean          | 157          |\n",
            "| time/                   |              |\n",
            "|    fps                  | 1143         |\n",
            "|    iterations           | 61           |\n",
            "|    time_elapsed         | 874          |\n",
            "|    total_timesteps      | 999424       |\n",
            "| train/                  |              |\n",
            "|    approx_kl            | 0.0026156595 |\n",
            "|    clip_fraction        | 0.0505       |\n",
            "|    clip_range           | 0.2          |\n",
            "|    entropy_loss         | -0.802       |\n",
            "|    explained_variance   | 0.959        |\n",
            "|    learning_rate        | 0.0003       |\n",
            "|    loss                 | 6.89         |\n",
            "|    n_updates            | 240          |\n",
            "|    policy_gradient_loss | 0.000584     |\n",
            "|    value_loss           | 54.2         |\n",
            "------------------------------------------\n",
            "------------------------------------------\n",
            "| rollout/                |              |\n",
            "|    ep_len_mean          | 925          |\n",
            "|    ep_rew_mean          | 160          |\n",
            "| time/                   |              |\n",
            "|    fps                  | 1142         |\n",
            "|    iterations           | 62           |\n",
            "|    time_elapsed         | 888          |\n",
            "|    total_timesteps      | 1015808      |\n",
            "| train/                  |              |\n",
            "|    approx_kl            | 0.0037510348 |\n",
            "|    clip_fraction        | 0.0462       |\n",
            "|    clip_range           | 0.2          |\n",
            "|    entropy_loss         | -0.743       |\n",
            "|    explained_variance   | 0.949        |\n",
            "|    learning_rate        | 0.0003       |\n",
            "|    loss                 | 43.1         |\n",
            "|    n_updates            | 244          |\n",
            "|    policy_gradient_loss | -0.000811    |\n",
            "|    value_loss           | 66.8         |\n",
            "------------------------------------------\n"
          ]
        }
      ],
      "source": [
        "# SOLUTION\n",
        "# Train it for 1,000,000 timesteps\n",
        "model.learn(total_timesteps=1000000)\n",
        "# Save the model\n",
        "model_name = \"ppo-LunarLander-v2\"\n",
        "model.save(model_name)"
      ]
    },
    {
      "cell_type": "markdown",
      "metadata": {
        "id": "BY_HuedOoISR"
      },
      "source": [
        "## Evaluate the agent 📈\n",
        "- Remember to wrap the environment in a [Monitor](https://stable-baselines3.readthedocs.io/en/master/common/monitor.html).\n",
        "- Now that our Lunar Lander agent is trained 🚀, we need to **check its performance**.\n",
        "- Stable-Baselines3 provides a method to do that: `evaluate_policy`.\n",
        "- To fill that part you need to [check the documentation](https://stable-baselines3.readthedocs.io/en/master/guide/examples.html#basic-usage-training-saving-loading)\n",
        "- In the next step,  we'll see **how to automatically evaluate and share your agent to compete in a leaderboard, but for now let's do it ourselves**\n",
        "\n",
        "\n",
        "💡 When you evaluate your agent, you should not use your training environment but create an evaluation environment."
      ]
    },
    {
      "cell_type": "code",
      "execution_count": null,
      "metadata": {
        "id": "yRpno0glsADy"
      },
      "outputs": [],
      "source": [
        "# TODO: Evaluate the agent\n",
        "# Create a new environment for evaluation\n",
        "eval_env =\n",
        "\n",
        "# Evaluate the model with 10 evaluation episodes and deterministic=True\n",
        "mean_reward, std_reward =\n",
        "\n",
        "# Print the results\n",
        "\n"
      ]
    },
    {
      "cell_type": "markdown",
      "metadata": {
        "id": "BqPKw3jt_pG5"
      },
      "source": [
        "#### Solution"
      ]
    },
    {
      "cell_type": "code",
      "execution_count": 8,
      "metadata": {
        "id": "zpz8kHlt_a_m"
      },
      "outputs": [
        {
          "name": "stdout",
          "output_type": "stream",
          "text": [
            "mean_reward=244.53 +/- 23.44833890368338\n"
          ]
        }
      ],
      "source": [
        "#@title\n",
        "eval_env = Monitor(gym.make(\"LunarLander-v2\", render_mode='rgb_array'))\n",
        "mean_reward, std_reward = evaluate_policy(model, eval_env, n_eval_episodes=10, deterministic=True)\n",
        "print(f\"mean_reward={mean_reward:.2f} +/- {std_reward}\")"
      ]
    },
    {
      "cell_type": "markdown",
      "metadata": {
        "id": "reBhoODwcXfr"
      },
      "source": [
        "- In my case, I got a mean reward of `200.20 +/- 20.80` after training for 1 million steps, which means that our lunar lander agent is ready to land on the moon 🌛🥳."
      ]
    },
    {
      "cell_type": "markdown",
      "metadata": {
        "id": "IK_kR78NoNb2"
      },
      "source": [
        "## Publish our trained model on the Hub 🔥\n",
        "Now that we saw we got good results after the training, we can publish our trained model on the hub 🤗 with one line of code.\n",
        "\n",
        "📚 The libraries documentation 👉 https://github.com/huggingface/huggingface_sb3/tree/main#hugging-face--x-stable-baselines3-v20\n",
        "\n",
        "Here's an example of a Model Card (with Space Invaders):"
      ]
    },
    {
      "cell_type": "markdown",
      "metadata": {
        "id": "Gs-Ew7e1gXN3"
      },
      "source": [
        "By using `package_to_hub` **you evaluate, record a replay, generate a model card of your agent and push it to the hub**.\n",
        "\n",
        "This way:\n",
        "- You can **showcase our work** 🔥\n",
        "- You can **visualize your agent playing** 👀\n",
        "- You can **share with the community an agent that others can use** 💾\n",
        "- You can **access a leaderboard 🏆 to see how well your agent is performing compared to your classmates** 👉 https://huggingface.co/spaces/huggingface-projects/Deep-Reinforcement-Learning-Leaderboard\n"
      ]
    },
    {
      "cell_type": "markdown",
      "metadata": {
        "id": "JquRrWytA6eo"
      },
      "source": [
        "To be able to share your model with the community there are three more steps to follow:\n",
        "\n",
        "1️⃣ (If it's not already done) create an account on Hugging Face ➡ https://huggingface.co/join\n",
        "\n",
        "2️⃣ Sign in and then, you need to store your authentication token from the Hugging Face website.\n",
        "- Create a new token (https://huggingface.co/settings/tokens) **with write role**\n",
        "\n",
        "<img src=\"https://huggingface.co/datasets/huggingface-deep-rl-course/course-images/resolve/main/en/notebooks/create-token.jpg\" alt=\"Create HF Token\">\n",
        "\n",
        "- Copy the token\n",
        "- Run the cell below and paste the token"
      ]
    },
    {
      "cell_type": "code",
      "execution_count": null,
      "metadata": {
        "id": "GZiFBBlzxzxY"
      },
      "outputs": [],
      "source": [
        "notebook_login()\n",
        "!git config --global credential.helper store"
      ]
    },
    {
      "cell_type": "markdown",
      "metadata": {
        "id": "_tsf2uv0g_4p"
      },
      "source": [
        "If you don't want to use a Google Colab or a Jupyter Notebook, you need to use this command instead: `huggingface-cli login`"
      ]
    },
    {
      "cell_type": "markdown",
      "metadata": {
        "id": "FGNh9VsZok0i"
      },
      "source": [
        "3️⃣ We're now ready to push our trained agent to the 🤗 Hub 🔥 using `package_to_hub()` function"
      ]
    },
    {
      "cell_type": "markdown",
      "metadata": {
        "id": "Ay24l6bqFF18"
      },
      "source": [
        "Let's fill the `package_to_hub` function:\n",
        "- `model`: our trained model.\n",
        "- `model_name`: the name of the trained model that we defined in `model_save`\n",
        "- `model_architecture`: the model architecture we used, in our case PPO\n",
        "- `env_id`: the name of the environment, in our case `LunarLander-v2`\n",
        "- `eval_env`: the evaluation environment defined in eval_env\n",
        "- `repo_id`: the name of the Hugging Face Hub Repository that will be created/updated `(repo_id = {username}/{repo_name})`\n",
        "\n",
        "💡 **A good name is {username}/{model_architecture}-{env_id}**\n",
        "\n",
        "- `commit_message`: message of the commit"
      ]
    },
    {
      "cell_type": "code",
      "execution_count": null,
      "metadata": {
        "id": "JPG7ofdGIHN8"
      },
      "outputs": [],
      "source": [
        "import gymnasium as gym\n",
        "from stable_baselines3.common.vec_env import DummyVecEnv\n",
        "from stable_baselines3.common.env_util import make_vec_env\n",
        "\n",
        "from huggingface_sb3 import package_to_hub\n",
        "\n",
        "## TODO: Define a repo_id\n",
        "## repo_id is the id of the model repository from the Hugging Face Hub (repo_id = {organization}/{repo_name} for instance ThomasSimonini/ppo-LunarLander-v2\n",
        "repo_id =\n",
        "\n",
        "# TODO: Define the name of the environment\n",
        "env_id =\n",
        "\n",
        "# Create the evaluation env and set the render_mode=\"rgb_array\"\n",
        "eval_env = DummyVecEnv([lambda: Monitor(gym.make(env_id, render_mode=\"rgb_array\"))])\n",
        "\n",
        "\n",
        "# TODO: Define the model architecture we used\n",
        "model_architecture = \"\"\n",
        "\n",
        "## TODO: Define the commit message\n",
        "commit_message = \"\"\n",
        "\n",
        "# method save, evaluate, generate a model card and record a replay video of your agent before pushing the repo to the hub\n",
        "package_to_hub(model=model, # Our trained model\n",
        "               model_name=model_name, # The name of our trained model\n",
        "               model_architecture=model_architecture, # The model architecture we used: in our case PPO\n",
        "               env_id=env_id, # Name of the environment\n",
        "               eval_env=eval_env, # Evaluation Environment\n",
        "               repo_id=repo_id, # id of the model repository from the Hugging Face Hub (repo_id = {organization}/{repo_name} for instance ThomasSimonini/ppo-LunarLander-v2\n",
        "               commit_message=commit_message)"
      ]
    },
    {
      "cell_type": "markdown",
      "metadata": {
        "id": "Avf6gufJBGMw"
      },
      "source": [
        "#### Solution\n"
      ]
    },
    {
      "cell_type": "code",
      "execution_count": 9,
      "metadata": {
        "id": "I2E--IJu8JYq"
      },
      "outputs": [
        {
          "name": "stdout",
          "output_type": "stream",
          "text": [
            "\u001b[38;5;4mℹ This function will save, evaluate, generate a video of your agent,\n",
            "create a model card and push everything to the hub. It might take up to 1min.\n",
            "This is a work in progress: if you encounter a bug, please open an issue.\u001b[0m\n"
          ]
        },
        {
          "name": "stderr",
          "output_type": "stream",
          "text": [
            "/home/stalaei/miniconda3/envs/DeepRL/lib/python3.10/site-packages/stable_baselines3/common/evaluation.py:67: UserWarning: Evaluation environment is not wrapped with a ``Monitor`` wrapper. This may result in reporting modified episode lengths and rewards, if other wrappers happen to modify these. Consider wrapping environment first with ``Monitor`` wrapper.\n",
            "  warnings.warn(\n"
          ]
        },
        {
          "name": "stdout",
          "output_type": "stream",
          "text": [
            "Saving video to /tmp/tmp4cbbzs3h/-step-0-to-step-1000.mp4\n",
            "MoviePy - Building video /tmp/tmp4cbbzs3h/-step-0-to-step-1000.mp4.\n",
            "MoviePy - Writing video /tmp/tmp4cbbzs3h/-step-0-to-step-1000.mp4\n",
            "\n"
          ]
        },
        {
          "name": "stderr",
          "output_type": "stream",
          "text": [
            "                                                                           \r"
          ]
        },
        {
          "name": "stdout",
          "output_type": "stream",
          "text": [
            "MoviePy - Done !\n",
            "MoviePy - video ready /tmp/tmp4cbbzs3h/-step-0-to-step-1000.mp4\n",
            "\u001b[38;5;1m✘ 'DummyVecEnv' object has no attribute 'video_recorder'\u001b[0m\n",
            "\u001b[38;5;1m✘ We are unable to generate a replay of your agent, the package_to_hub\n",
            "process continues\u001b[0m\n",
            "\u001b[38;5;1m✘ Please open an issue at\n",
            "https://github.com/huggingface/huggingface_sb3/issues\u001b[0m\n",
            "\u001b[38;5;4mℹ Pushing repo stalaei/DeepRL-ppo-LunarLander-v2-with-sb3 to the\n",
            "Hugging Face Hub\u001b[0m\n"
          ]
        },
        {
          "data": {
            "application/vnd.jupyter.widget-view+json": {
              "model_id": "b00dadd6c67f43ed8bc6bdce7a93d64c",
              "version_major": 2,
              "version_minor": 0
            },
            "text/plain": [
              "policy.optimizer.pth:   0%|          | 0.00/88.4k [00:00<?, ?B/s]"
            ]
          },
          "metadata": {},
          "output_type": "display_data"
        },
        {
          "data": {
            "application/vnd.jupyter.widget-view+json": {
              "model_id": "8638db3d8d124d0fa1ec1da4d65659dc",
              "version_major": 2,
              "version_minor": 0
            },
            "text/plain": [
              "pytorch_variables.pth:   0%|          | 0.00/864 [00:00<?, ?B/s]"
            ]
          },
          "metadata": {},
          "output_type": "display_data"
        },
        {
          "data": {
            "application/vnd.jupyter.widget-view+json": {
              "model_id": "f0fab3e65f7e4f8397340c9d653791af",
              "version_major": 2,
              "version_minor": 0
            },
            "text/plain": [
              "policy.pth:   0%|          | 0.00/43.8k [00:00<?, ?B/s]"
            ]
          },
          "metadata": {},
          "output_type": "display_data"
        },
        {
          "data": {
            "application/vnd.jupyter.widget-view+json": {
              "model_id": "119e935b25044da0a4a9e1e1c700fd5b",
              "version_major": 2,
              "version_minor": 0
            },
            "text/plain": [
              "Upload 4 LFS files:   0%|          | 0/4 [00:00<?, ?it/s]"
            ]
          },
          "metadata": {},
          "output_type": "display_data"
        },
        {
          "data": {
            "application/vnd.jupyter.widget-view+json": {
              "model_id": "018190ea2e40435c97712b6ddad35865",
              "version_major": 2,
              "version_minor": 0
            },
            "text/plain": [
              "ppo-LunarLander-v2.zip:   0%|          | 0.00/151k [00:00<?, ?B/s]"
            ]
          },
          "metadata": {},
          "output_type": "display_data"
        },
        {
          "name": "stdout",
          "output_type": "stream",
          "text": [
            "\u001b[38;5;4mℹ Your model is pushed to the Hub. You can view your model here:\n",
            "https://huggingface.co/stalaei/DeepRL-ppo-LunarLander-v2-with-sb3/tree/main/\u001b[0m\n"
          ]
        },
        {
          "data": {
            "text/plain": [
              "CommitInfo(commit_url='https://huggingface.co/stalaei/DeepRL-ppo-LunarLander-v2-with-sb3/commit/f375a69cf6342faa33a0a1c902d5d498a66228c3', commit_message='Upload PPO LunarLander-v2 trained agent', commit_description='', oid='f375a69cf6342faa33a0a1c902d5d498a66228c3', pr_url=None, repo_url=RepoUrl('https://huggingface.co/stalaei/DeepRL-ppo-LunarLander-v2-with-sb3', endpoint='https://huggingface.co', repo_type='model', repo_id='stalaei/DeepRL-ppo-LunarLander-v2-with-sb3'), pr_revision=None, pr_num=None)"
            ]
          },
          "execution_count": 9,
          "metadata": {},
          "output_type": "execute_result"
        }
      ],
      "source": [
        "import gymnasium as gym\n",
        "\n",
        "from stable_baselines3 import PPO\n",
        "from stable_baselines3.common.vec_env import DummyVecEnv\n",
        "from stable_baselines3.common.env_util import make_vec_env\n",
        "\n",
        "from huggingface_sb3 import package_to_hub\n",
        "\n",
        "# PLACE the variables you've just defined two cells above\n",
        "# Define the name of the environment\n",
        "env_id = \"LunarLander-v2\"\n",
        "\n",
        "# TODO: Define the model architecture we used\n",
        "model_architecture = \"PPO\"\n",
        "\n",
        "## Define a repo_id\n",
        "## repo_id is the id of the model repository from the Hugging Face Hub (repo_id = {organization}/{repo_name} for instance ThomasSimonini/ppo-LunarLander-v2\n",
        "## CHANGE WITH YOUR REPO ID\n",
        "repo_id = \"stalaei/DeepRL-ppo-LunarLander-v2-with-sb3\" # Change with your repo id, you can't push with mine 😄\n",
        "\n",
        "## Define the commit message\n",
        "commit_message = \"Upload PPO LunarLander-v2 trained agent\"\n",
        "\n",
        "# Create the evaluation env and set the render_mode=\"rgb_array\"\n",
        "eval_env = DummyVecEnv([lambda: gym.make(env_id, render_mode=\"rgb_array\")])\n",
        "\n",
        "# PLACE the package_to_hub function you've just filled here\n",
        "package_to_hub(model=model, # Our trained model\n",
        "               model_name=model_name, # The name of our trained model\n",
        "               model_architecture=model_architecture, # The model architecture we used: in our case PPO\n",
        "               env_id=env_id, # Name of the environment\n",
        "               eval_env=eval_env, # Evaluation Environment\n",
        "               repo_id=repo_id, # id of the model repository from the Hugging Face Hub (repo_id = {organization}/{repo_name} for instance ThomasSimonini/ppo-LunarLander-v2\n",
        "               commit_message=commit_message)\n"
      ]
    },
    {
      "cell_type": "markdown",
      "metadata": {
        "id": "T79AEAWEFIxz"
      },
      "source": [
        "Congrats 🥳 you've just trained and uploaded your first Deep Reinforcement Learning agent. The script above should have displayed a link to a model repository such as https://huggingface.co/osanseviero/test_sb3. When you go to this link, you can:\n",
        "* See a video preview of your agent at the right.\n",
        "* Click \"Files and versions\" to see all the files in the repository.\n",
        "* Click \"Use in stable-baselines3\" to get a code snippet that shows how to load the model.\n",
        "* A model card (`README.md` file) which gives a description of the model\n",
        "\n",
        "Under the hood, the Hub uses git-based repositories (don't worry if you don't know what git is), which means you can update the model with new versions as you experiment and improve your agent.\n",
        "\n",
        "Compare the results of your LunarLander-v2 with your classmates using the leaderboard 🏆 👉 https://huggingface.co/spaces/huggingface-projects/Deep-Reinforcement-Learning-Leaderboard"
      ]
    },
    {
      "cell_type": "markdown",
      "metadata": {
        "id": "9nWnuQHRfFRa"
      },
      "source": [
        "## Load a saved LunarLander model from the Hub 🤗\n",
        "Thanks to [ironbar](https://github.com/ironbar) for the contribution.\n",
        "\n",
        "Loading a saved model from the Hub is really easy.\n",
        "\n",
        "You go to https://huggingface.co/models?library=stable-baselines3 to see the list of all the Stable-baselines3 saved models.\n",
        "1. You select one and copy its repo_id\n",
        "\n",
        "<img src=\"https://huggingface.co/datasets/huggingface-deep-rl-course/course-images/resolve/main/en/notebooks/unit1/copy-id.png\" alt=\"Copy-id\"/>"
      ]
    },
    {
      "cell_type": "markdown",
      "metadata": {
        "id": "hNPLJF2bfiUw"
      },
      "source": [
        "2. Then we just need to use load_from_hub with:\n",
        "- The repo_id\n",
        "- The filename: the saved model inside the repo and its extension (*.zip)"
      ]
    },
    {
      "cell_type": "markdown",
      "metadata": {
        "id": "bhb9-NtsinKB"
      },
      "source": [
        "Because the model I download from the Hub was trained with Gym (the former version of Gymnasium) we need to install shimmy a API conversion tool that will help us to run the environment correctly.\n",
        "\n",
        "Shimmy Documentation: https://github.com/Farama-Foundation/Shimmy"
      ]
    },
    {
      "cell_type": "code",
      "execution_count": null,
      "metadata": {
        "id": "03WI-bkci1kH"
      },
      "outputs": [],
      "source": [
        "!pip install shimmy"
      ]
    },
    {
      "cell_type": "code",
      "execution_count": null,
      "metadata": {
        "id": "oj8PSGHJfwz3"
      },
      "outputs": [],
      "source": [
        "from huggingface_sb3 import load_from_hub\n",
        "repo_id = \"Classroom-workshop/assignment2-omar\" # The repo_id\n",
        "filename = \"ppo-LunarLander-v2.zip\" # The model filename.zip\n",
        "\n",
        "# When the model was trained on Python 3.8 the pickle protocol is 5\n",
        "# But Python 3.6, 3.7 use protocol 4\n",
        "# In order to get compatibility we need to:\n",
        "# 1. Install pickle5 (we done it at the beginning of the colab)\n",
        "# 2. Create a custom empty object we pass as parameter to PPO.load()\n",
        "custom_objects = {\n",
        "            \"learning_rate\": 0.0,\n",
        "            \"lr_schedule\": lambda _: 0.0,\n",
        "            \"clip_range\": lambda _: 0.0,\n",
        "}\n",
        "\n",
        "checkpoint = load_from_hub(repo_id, filename)\n",
        "model = PPO.load(checkpoint, custom_objects=custom_objects, print_system_info=True)"
      ]
    },
    {
      "cell_type": "markdown",
      "metadata": {
        "id": "Fs0Y-qgPgLUf"
      },
      "source": [
        "Let's evaluate this agent:"
      ]
    },
    {
      "cell_type": "code",
      "execution_count": null,
      "metadata": {
        "id": "PAEVwK-aahfx"
      },
      "outputs": [],
      "source": [
        "#@title\n",
        "eval_env = Monitor(gym.make(\"LunarLander-v2\"))\n",
        "mean_reward, std_reward = evaluate_policy(model, eval_env, n_eval_episodes=10, deterministic=True)\n",
        "print(f\"mean_reward={mean_reward:.2f} +/- {std_reward}\")"
      ]
    },
    {
      "cell_type": "markdown",
      "metadata": {
        "id": "BQAwLnYFPk-s"
      },
      "source": [
        "## Some additional challenges 🏆\n",
        "The best way to learn **is to try things by your own**! As you saw, the current agent is not doing great. As a first suggestion, you can train for more steps. With 1,000,000 steps, we saw some great results!\n",
        "\n",
        "In the [Leaderboard](https://huggingface.co/spaces/huggingface-projects/Deep-Reinforcement-Learning-Leaderboard) you will find your agents. Can you get to the top?\n",
        "\n",
        "Here are some ideas to achieve so:\n",
        "* Train more steps\n",
        "* Try different hyperparameters for `PPO`. You can see them at https://stable-baselines3.readthedocs.io/en/master/modules/ppo.html#parameters.\n",
        "* Check the [Stable-Baselines3 documentation](https://stable-baselines3.readthedocs.io/en/master/modules/dqn.html) and try another model such as DQN.\n",
        "* **Push your new trained model** on the Hub 🔥\n",
        "\n",
        "**Compare the results of your LunarLander-v2 with your classmates** using the [leaderboard](https://huggingface.co/spaces/huggingface-projects/Deep-Reinforcement-Learning-Leaderboard) 🏆\n",
        "\n",
        "Is moon landing too boring for you? Try to **change the environment**, why not use MountainCar-v0, CartPole-v1 or CarRacing-v0? Check how they work [using the gym documentation](https://www.gymlibrary.dev/) and have fun 🎉."
      ]
    },
    {
      "cell_type": "markdown",
      "metadata": {
        "id": "9lM95-dvmif8"
      },
      "source": [
        "________________________________________________________________________\n",
        "Congrats on finishing this chapter! That was the biggest one, **and there was a lot of information.**\n",
        "\n",
        "If you’re still feel confused with all these elements...it's totally normal! **This was the same for me and for all people who studied RL.**\n",
        "\n",
        "Take time to really **grasp the material before continuing and try the additional challenges**. It’s important to master these elements and have a solid foundations.\n",
        "\n",
        "Naturally, during the course, we’re going to dive deeper into these concepts but **it’s better to have a good understanding of them now before diving into the next chapters.**\n",
        "\n"
      ]
    },
    {
      "cell_type": "markdown",
      "metadata": {
        "id": "BjLhT70TEZIn"
      },
      "source": [
        "Next time, in the bonus unit 1, you'll train Huggy the Dog to fetch the stick.\n",
        "\n",
        "<img src=\"https://huggingface.co/datasets/huggingface-deep-rl-course/course-images/resolve/main/en/notebooks/unit1/huggy.jpg\" alt=\"Huggy\"/>\n",
        "\n",
        "## Keep learning, stay awesome 🤗"
      ]
    }
  ],
  "metadata": {
    "accelerator": "GPU",
    "colab": {
      "collapsed_sections": [
        "QAN7B0_HCVZC",
        "BqPKw3jt_pG5"
      ],
      "private_outputs": true,
      "provenance": []
    },
    "gpuClass": "standard",
    "kernelspec": {
      "display_name": "DeepRL",
      "language": "python",
      "name": "python3"
    },
    "language_info": {
      "codemirror_mode": {
        "name": "ipython",
        "version": 3
      },
      "file_extension": ".py",
      "mimetype": "text/x-python",
      "name": "python",
      "nbconvert_exporter": "python",
      "pygments_lexer": "ipython3",
      "version": "3.10.12"
    }
  },
  "nbformat": 4,
  "nbformat_minor": 0
}
