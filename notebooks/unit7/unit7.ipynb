{
 "cells": [
  {
   "cell_type": "code",
   "execution_count": 3,
   "metadata": {},
   "outputs": [
    {
     "name": "stdout",
     "output_type": "stream",
     "text": [
      "Cloning into 'ml-agents'...\n",
      "remote: Enumerating objects: 93322, done.\u001b[K\n",
      "remote: Counting objects: 100% (1/1), done.\u001b[K\n",
      "remote: Total 93322 (delta 0), reused 0 (delta 0), pack-reused 93321 (from 1)\u001b[K\n",
      "Receiving objects: 100% (93322/93322), 2.87 GiB | 55.36 MiB/s, done.\n",
      "Resolving deltas: 100% (68067/68067), done.\n",
      "Updating files: 100% (2229/2229), done.\n"
     ]
    }
   ],
   "source": [
    "!git clone https://github.com/Unity-Technologies/ml-agents"
   ]
  },
  {
   "cell_type": "code",
   "execution_count": 8,
   "metadata": {},
   "outputs": [
    {
     "name": "stdout",
     "output_type": "stream",
     "text": [
      "Collecting gdown\n",
      "  Downloading gdown-5.2.0-py3-none-any.whl.metadata (5.8 kB)\n",
      "Collecting beautifulsoup4 (from gdown)\n",
      "  Downloading beautifulsoup4-4.13.3-py3-none-any.whl.metadata (3.8 kB)\n",
      "Requirement already satisfied: filelock in /home/stalaei/miniconda3/envs/DeepRL/lib/python3.10/site-packages (from gdown) (3.18.0)\n",
      "Requirement already satisfied: requests[socks] in /home/stalaei/miniconda3/envs/DeepRL/lib/python3.10/site-packages (from gdown) (2.32.3)\n",
      "Requirement already satisfied: tqdm in /home/stalaei/miniconda3/envs/DeepRL/lib/python3.10/site-packages (from gdown) (4.67.1)\n",
      "Collecting soupsieve>1.2 (from beautifulsoup4->gdown)\n",
      "  Downloading soupsieve-2.6-py3-none-any.whl.metadata (4.6 kB)\n",
      "Requirement already satisfied: typing-extensions>=4.0.0 in /home/stalaei/miniconda3/envs/DeepRL/lib/python3.10/site-packages (from beautifulsoup4->gdown) (4.12.2)\n",
      "Requirement already satisfied: charset-normalizer<4,>=2 in /home/stalaei/miniconda3/envs/DeepRL/lib/python3.10/site-packages (from requests[socks]->gdown) (3.4.1)\n",
      "Requirement already satisfied: idna<4,>=2.5 in /home/stalaei/miniconda3/envs/DeepRL/lib/python3.10/site-packages (from requests[socks]->gdown) (3.10)\n",
      "Requirement already satisfied: urllib3<3,>=1.21.1 in /home/stalaei/miniconda3/envs/DeepRL/lib/python3.10/site-packages (from requests[socks]->gdown) (2.3.0)\n",
      "Requirement already satisfied: certifi>=2017.4.17 in /home/stalaei/miniconda3/envs/DeepRL/lib/python3.10/site-packages (from requests[socks]->gdown) (2025.1.31)\n",
      "Collecting PySocks!=1.5.7,>=1.5.6 (from requests[socks]->gdown)\n",
      "  Downloading PySocks-1.7.1-py3-none-any.whl.metadata (13 kB)\n",
      "Downloading gdown-5.2.0-py3-none-any.whl (18 kB)\n",
      "Downloading beautifulsoup4-4.13.3-py3-none-any.whl (186 kB)\n",
      "Downloading PySocks-1.7.1-py3-none-any.whl (16 kB)\n",
      "Downloading soupsieve-2.6-py3-none-any.whl (36 kB)\n",
      "Installing collected packages: soupsieve, PySocks, beautifulsoup4, gdown\n",
      "Successfully installed PySocks-1.7.1 beautifulsoup4-4.13.3 gdown-5.2.0 soupsieve-2.6\n"
     ]
    }
   ],
   "source": [
    "!pip install gdown"
   ]
  },
  {
   "cell_type": "code",
   "execution_count": 9,
   "metadata": {},
   "outputs": [
    {
     "name": "stdout",
     "output_type": "stream",
     "text": [
      "Downloading environment executable...\n"
     ]
    },
    {
     "name": "stderr",
     "output_type": "stream",
     "text": [
      "Downloading...\n",
      "From (original): https://drive.google.com/uc?id=1KuqBKYiXiIcU4kNMqEzhgypuFP5_45CL\n",
      "From (redirected): https://drive.google.com/uc?id=1KuqBKYiXiIcU4kNMqEzhgypuFP5_45CL&confirm=t&uuid=34905491-5f4c-4bbd-8198-61e6e67b006f\n",
      "To: /home/stalaei/projects/deep-rl-class/notebooks/unit7/ml-agents/training-envs-executables/environment.zip\n",
      "100%|██████████| 37.0M/37.0M [00:00<00:00, 38.0MB/s]\n"
     ]
    },
    {
     "name": "stdout",
     "output_type": "stream",
     "text": [
      "Extracting files...\n",
      "Environment executable has been downloaded and extracted to ml-agents/training-envs-executables\n"
     ]
    }
   ],
   "source": [
    "# Download and extract the environment executable\n",
    "import os\n",
    "import gdown\n",
    "import zipfile\n",
    "from pathlib import Path\n",
    "\n",
    "# URL for the environment executable\n",
    "url = \"https://drive.google.com/uc?id=1KuqBKYiXiIcU4kNMqEzhgypuFP5_45CL\"\n",
    "\n",
    "# Create the directory for the executables if it doesn't exist\n",
    "executable_dir = Path(\"ml-agents/training-envs-executables\")\n",
    "executable_dir.mkdir(exist_ok=True, parents=True)\n",
    "\n",
    "# Download the zip file\n",
    "zip_path = \"ml-agents/training-envs-executables/environment.zip\"\n",
    "print(\"Downloading environment executable...\")\n",
    "gdown.download(url, zip_path, quiet=False)\n",
    "\n",
    "# Extract the zip file\n",
    "print(\"Extracting files...\")\n",
    "with zipfile.ZipFile(zip_path, 'r') as zip_ref:\n",
    "    zip_ref.extractall(executable_dir)\n",
    "\n",
    "# Remove the zip file after extraction\n",
    "os.remove(zip_path)\n",
    "\n",
    "print(f\"Environment executable has been downloaded and extracted to {executable_dir}\")\n"
   ]
  },
  {
   "cell_type": "code",
   "execution_count": null,
   "metadata": {},
   "outputs": [
    {
     "name": "stdout",
     "output_type": "stream",
     "text": [
      "Traceback (most recent call last):\n",
      "  File \"/home/stalaei/miniconda3/envs/DeepRL/bin/mlagents-learn\", line 33, in <module>\n",
      "    sys.exit(load_entry_point('mlagents', 'console_scripts', 'mlagents-learn')())\n",
      "  File \"/home/stalaei/miniconda3/envs/DeepRL/bin/mlagents-learn\", line 22, in importlib_load_entry_point\n",
      "    for entry_point in distribution(dist_name).entry_points\n",
      "  File \"/home/stalaei/miniconda3/envs/DeepRL/lib/python3.10/importlib/metadata/__init__.py\", line 969, in distribution\n",
      "    return Distribution.from_name(distribution_name)\n",
      "  File \"/home/stalaei/miniconda3/envs/DeepRL/lib/python3.10/importlib/metadata/__init__.py\", line 548, in from_name\n",
      "    raise PackageNotFoundError(name)\n",
      "importlib.metadata.PackageNotFoundError: No package metadata was found for mlagents\n"
     ]
    }
   ],
   "source": [
    "# deep-rl-class/notebooks/unit7/ml-agents/config/poca/SoccerTwos.yaml\n",
    "# !mlagents-learn ./config/ppo/PyramidsRND.yaml --env=./training-envs-executables/linux/Pyramids/Pyramids --run-id=\"Pyramids Training\" --no-graphics\n",
    "\n",
    "!mlagents-learn ./config/poca/SoccerTwos.yaml --env=./training-envs-executables/linux/SoccerTwos/SoccerTwos --run-id=\"SoccerTwos Training\" --no-graphics"
   ]
  },
  {
   "cell_type": "code",
   "execution_count": 6,
   "metadata": {},
   "outputs": [
    {
     "name": "stdout",
     "output_type": "stream",
     "text": [
      "[INFO] This function will create a model card and upload your SoccerTwos Training-v1 into HuggingFace Hub. This is a work in progress: If you encounter a bug, please send open an issue\n",
      "[INFO] Pushing repo SoccerTwos Training-v1 to the Hugging Face Hub\n",
      "checkpoint.pt:   0%|                                | 0.00/9.48M [00:00<?, ?B/s]\n",
      "SoccerTwos-0.pt:   0%|                              | 0.00/9.48M [00:00<?, ?B/s]\u001b[A\n",
      "\n",
      "SoccerTwos.onnx:   0%|                              | 0.00/1.77M [00:00<?, ?B/s]\u001b[A\u001b[A\n",
      "\n",
      "\n",
      "Upload 5 LFS files:   0%|                                 | 0/5 [00:00<?, ?it/s]\u001b[A\u001b[A\u001b[A\n",
      "\n",
      "\n",
      "\n",
      "SoccerTwos.onnx:   0%|                              | 0.00/1.77M [00:00<?, ?B/s]\u001b[A\u001b[A\u001b[A\u001b[A\n",
      "\n",
      "\n",
      "\n",
      "\n",
      "events.out.tfevents.1743213211.soal-10.stanford.edu.2951576.0:   0%| | 0.00/1.24\u001b[A\u001b[A\u001b[A\u001b[A\u001b[A\n",
      "events.out.tfevents.1743213211.soal-10.stanford.edu.2951576.0: 100%|█| 1.24k/1.2\u001b[A\n",
      "SoccerTwos.onnx: 100%|█████████████████████| 1.77M/1.77M [00:00<00:00, 5.93MB/s]\n",
      "SoccerTwos.onnx: 100%|█████████████████████| 1.77M/1.77M [00:00<00:00, 4.71MB/s]\n",
      "SoccerTwos-0.pt: 100%|█████████████████████| 9.48M/9.48M [00:00<00:00, 19.6MB/s]\n",
      "\n",
      "\n",
      "\n",
      "checkpoint.pt:  46%|██████████▋            | 4.39M/9.48M [00:00<00:00, 8.41MB/s]\u001b[A\u001b[A\u001b[A\n",
      "\n",
      "\n",
      "checkpoint.pt: 100%|███████████████████████| 9.48M/9.48M [00:00<00:00, 9.53MB/s]\u001b[A\u001b[A\u001b[A\n",
      "\n",
      "\n",
      "\n",
      "Upload 5 LFS files: 100%|█████████████████████████| 5/5 [00:01<00:00,  4.49it/s]\u001b[A\u001b[A\u001b[A\n",
      "[INFO] Your model is pushed to the hub. You can view your model here: https://huggingface.co/stalaei/DeepRL-poca-SoccerTwos\n"
     ]
    }
   ],
   "source": [
    "\n",
    "!mlagents-push-to-hf  --run-id=\"SoccerTwos Training-v1\" --local-dir=\"./ml-agents/results/SoccerTwos Training\" --repo-id=\"stalaei/DeepRL-poca-SoccerTwos\" --commit-message=\"First Push\""
   ]
  },
  {
   "cell_type": "code",
   "execution_count": null,
   "metadata": {},
   "outputs": [],
   "source": []
  }
 ],
 "metadata": {
  "kernelspec": {
   "display_name": "DeepRL",
   "language": "python",
   "name": "python3"
  },
  "language_info": {
   "codemirror_mode": {
    "name": "ipython",
    "version": 3
   },
   "file_extension": ".py",
   "mimetype": "text/x-python",
   "name": "python",
   "nbconvert_exporter": "python",
   "pygments_lexer": "ipython3",
   "version": "3.10.12"
  }
 },
 "nbformat": 4,
 "nbformat_minor": 2
}
